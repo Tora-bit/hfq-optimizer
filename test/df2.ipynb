{
 "cells": [
  {
   "cell_type": "code",
   "execution_count": 1,
   "metadata": {},
   "outputs": [
    {
     "data": {
      "text/html": [
       "<div>\n",
       "<style scoped>\n",
       "    .dataframe tbody tr th:only-of-type {\n",
       "        vertical-align: middle;\n",
       "    }\n",
       "\n",
       "    .dataframe tbody tr th {\n",
       "        vertical-align: top;\n",
       "    }\n",
       "\n",
       "    .dataframe thead th {\n",
       "        text-align: right;\n",
       "    }\n",
       "</style>\n",
       "<table border=\"1\" class=\"dataframe\">\n",
       "  <thead>\n",
       "    <tr style=\"text-align: right;\">\n",
       "      <th></th>\n",
       "      <th>sepal_length</th>\n",
       "      <th>sepal_width</th>\n",
       "      <th>petal_length</th>\n",
       "      <th>petal_width</th>\n",
       "      <th>species</th>\n",
       "    </tr>\n",
       "  </thead>\n",
       "  <tbody>\n",
       "    <tr>\n",
       "      <th>0</th>\n",
       "      <td>5.1</td>\n",
       "      <td>3.5</td>\n",
       "      <td>1.4</td>\n",
       "      <td>0.2</td>\n",
       "      <td>setosa</td>\n",
       "    </tr>\n",
       "    <tr>\n",
       "      <th>1</th>\n",
       "      <td>4.9</td>\n",
       "      <td>3.0</td>\n",
       "      <td>1.4</td>\n",
       "      <td>0.2</td>\n",
       "      <td>setosa</td>\n",
       "    </tr>\n",
       "    <tr>\n",
       "      <th>2</th>\n",
       "      <td>4.7</td>\n",
       "      <td>3.2</td>\n",
       "      <td>1.3</td>\n",
       "      <td>0.2</td>\n",
       "      <td>setosa</td>\n",
       "    </tr>\n",
       "    <tr>\n",
       "      <th>3</th>\n",
       "      <td>4.6</td>\n",
       "      <td>3.1</td>\n",
       "      <td>1.5</td>\n",
       "      <td>0.2</td>\n",
       "      <td>setosa</td>\n",
       "    </tr>\n",
       "    <tr>\n",
       "      <th>4</th>\n",
       "      <td>5.0</td>\n",
       "      <td>3.6</td>\n",
       "      <td>1.4</td>\n",
       "      <td>0.2</td>\n",
       "      <td>setosa</td>\n",
       "    </tr>\n",
       "  </tbody>\n",
       "</table>\n",
       "</div>"
      ],
      "text/plain": [
       "   sepal_length  sepal_width  petal_length  petal_width species\n",
       "0           5.1          3.5           1.4          0.2  setosa\n",
       "1           4.9          3.0           1.4          0.2  setosa\n",
       "2           4.7          3.2           1.3          0.2  setosa\n",
       "3           4.6          3.1           1.5          0.2  setosa\n",
       "4           5.0          3.6           1.4          0.2  setosa"
      ]
     },
     "execution_count": 1,
     "metadata": {},
     "output_type": "execute_result"
    }
   ],
   "source": [
    "import numpy as np\n",
    "a = np.random.normal(\n",
    "    loc   = 72,      # 平均\n",
    "    scale = 36,      # 標準偏差\n",
    "    size  = 100000,# 出力配列のサイズ(タプルも可)\n",
    ")\n"
   ]
  },
  {
   "cell_type": "code",
   "execution_count": 14,
   "metadata": {},
   "outputs": [],
   "source": [
    "res = \"\"\"\n",
    "           time                       element phase\n",
    "0  6.790000e-10        P(B1|X2|X6)P(B2|X2|X6)     1\n",
    "1  8.900000e-10        P(B1|X2|X6)P(B2|X2|X6)     2\n",
    "2  1.079000e-09        P(B1|X2|X6)P(B2|X2|X6)     3\n",
    "3  7.860000e-10  P(B1|X1|X1|X8)P(B2|X1|X1|X8)     1\n",
    "4  1.005000e-09  P(B1|X1|X1|X8)P(B2|X1|X1|X8)     2\n",
    "5  1.186000e-09  P(B1|X1|X1|X8)P(B2|X1|X1|X8)     3\n",
    "\"\"\"\n",
    "\n",
    "res2 = \"\"\"\n",
    "           time                       element phase\n",
    "0  6.690000e-10        P(B1|X2|X6)P(B2|X2|X6)     1\n",
    "1  9.800000e-10        P(B1|X2|X6)P(B2|X2|X6)     2\n",
    "2  1.179000e-09        P(B1|X2|X6)P(B2|X2|X6)     3\n",
    "3  7.860000e-10  P(B1|X1|X1|X8)P(B2|X1|X1|X8)     1\n",
    "4  1.005000e-09  P(B1|X1|X1|X8)P(B2|X1|X1|X8)     2\n",
    "5  1.186000e-09  P(B1|X1|X1|X8)P(B2|X1|X1|X8)     3\n",
    "\"\"\"\n",
    "import io\n",
    "import pandas as pd\n",
    "res_df = pd.read_csv(io.StringIO(res),index_col=0,header=0, sep='\\s+')\n",
    "res_df2 = pd.read_csv(io.StringIO(res2),index_col=0,header=0, sep='\\s+')"
   ]
  },
  {
   "cell_type": "code",
   "execution_count": 15,
   "metadata": {},
   "outputs": [],
   "source": [
    "\n",
    "def compareDataframe(df1 : pd.DataFrame, df2 : pd.DataFrame) -> bool:\n",
    "    for index in df1.index:\n",
    "        if df1.at[index, 'element'] == df2.at[index, 'element'] and df1.at[index, 'phase'] == df2.at[index, 'phase']:\n",
    "            time_df1 = df1.at[index, 'time']\n",
    "            time_df2 = df2.at[index, 'time']\n",
    "            if time_df2 < time_df1 - 2.0e-11 or time_df1 + 2.0e-11 < time_df2:\n",
    "                return False\n",
    "        else:\n",
    "            return False\n",
    "    return True"
   ]
  },
  {
   "cell_type": "code",
   "execution_count": 17,
   "metadata": {},
   "outputs": [
    {
     "name": "stdout",
     "output_type": "stream",
     "text": [
      "           time                       element  phase\n",
      "0  6.790000e-10        P(B1|X2|X6)P(B2|X2|X6)      1\n",
      "1  7.860000e-10  P(B1|X1|X1|X8)P(B2|X1|X1|X8)      1\n",
      "2  8.900000e-10        P(B1|X2|X6)P(B2|X2|X6)      2\n",
      "3  1.005000e-09  P(B1|X1|X1|X8)P(B2|X1|X1|X8)      2\n",
      "4  1.079000e-09        P(B1|X2|X6)P(B2|X2|X6)      3\n",
      "5  1.186000e-09  P(B1|X1|X1|X8)P(B2|X1|X1|X8)      3\n"
     ]
    },
    {
     "data": {
      "text/plain": [
       "True"
      ]
     },
     "execution_count": 17,
     "metadata": {},
     "output_type": "execute_result"
    }
   ],
   "source": [
    "compareDataframe(res_df, res_df2)"
   ]
  },
  {
   "cell_type": "code",
   "execution_count": 3,
   "metadata": {},
   "outputs": [
    {
     "name": "stdout",
     "output_type": "stream",
     "text": [
      "Empty DataFrame\n",
      "Columns: []\n",
      "Index: []\n"
     ]
    }
   ],
   "source": [
    "import pandas as pd\n",
    "df = pd.DataFrame()\n",
    "print(df)\n",
    "dct ={\"name\":\"taro\", \"youtube\":\"teest\" }"
   ]
  }
 ],
 "metadata": {
  "interpreter": {
   "hash": "97cc609b13305c559618ec78a438abc56230b9381f827f22d070313b9a1f3777"
  },
  "kernelspec": {
   "display_name": "Python 3.10.1 64-bit",
   "language": "python",
   "name": "python3"
  },
  "language_info": {
   "codemirror_mode": {
    "name": "ipython",
    "version": 3
   },
   "file_extension": ".py",
   "mimetype": "text/x-python",
   "name": "python",
   "nbconvert_exporter": "python",
   "pygments_lexer": "ipython3",
   "version": "3.10.1"
  },
  "orig_nbformat": 4
 },
 "nbformat": 4,
 "nbformat_minor": 2
}
