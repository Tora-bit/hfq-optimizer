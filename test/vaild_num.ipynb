{
 "cells": [
  {
   "cell_type": "code",
   "execution_count": 3,
   "metadata": {},
   "outputs": [
    {
     "data": {
      "image/png": "[encoded data removed]",
      "text/plain": [
       "<Figure size 432x288 with 1 Axes>"
      ]
     },
     "metadata": {
      "needs_background": "light"
     },
     "output_type": "display_data"
    }
   ],
   "source": [
    "import numpy as np\n",
    "import matplotlib.pyplot as plt\n",
    "\n",
    "x=np.linspace(0,5,100)\n",
    "y=np.sin(x)\n",
    "plt.plot(x, y)\n",
    "plt.title(\"Plot generated using Matplotlib\")\n",
    "plt.xlabel(\"x\")\n",
    "plt.ylabel(\"sinx\")\n",
    "plt.savefig(\"Plot generated using Matplotlib.png\")"
   ]
  },
  {
   "cell_type": "markdown",
   "metadata": {},
   "source": [
    "桁数を求めたい"
   ]
  },
  {
   "cell_type": "code",
   "execution_count": 32,
   "metadata": {},
   "outputs": [
    {
     "name": "stdout",
     "output_type": "stream",
     "text": [
      "8992.4322\n",
      "<re.Match object; span=(4, 5), match='.'>\n",
      "None\n",
      "0.0043423\n",
      "<re.Match object; span=(1, 2), match='.'>\n",
      "<re.Match object; span=(0, 4), match='0.00'>\n",
      "0.5435\n",
      "<re.Match object; span=(1, 2), match='.'>\n",
      "<re.Match object; span=(0, 2), match='0.'>\n",
      "8.32102931\n",
      "<re.Match object; span=(1, 2), match='.'>\n",
      "None\n",
      "4324\n",
      "None\n",
      "500.00432\n",
      "<re.Match object; span=(3, 4), match='.'>\n",
      "None\n"
     ]
    }
   ],
   "source": [
    "import re\n",
    "\n",
    "for num in a:\n",
    "    m_obj = re.search('\\.',str(num))\n",
    "    zerosearch = re.search('^0\\.0*',str(num))\n",
    "    print(str(num))\n",
    "    if m_obj:\n",
    "        print(m_obj)\n",
    "        print(zerosearch)\n",
    "    else:\n",
    "        print(m_obj)"
   ]
  },
  {
   "cell_type": "code",
   "execution_count": 39,
   "metadata": {},
   "outputs": [],
   "source": [
    "def func(number : float, digit : int = 3) -> float:\n",
    "    m_obj = re.search('\\.',str(number))\n",
    "    if m_obj:\n",
    "        zero_obj = re.search('^0\\.0*',str(number))\n",
    "        if zero_obj:\n",
    "            return round(number,zero_obj.end() -2 + digit)\n",
    "        else:\n",
    "            if m_obj.start() >= digit:\n",
    "                return int(number)\n",
    "            else:\n",
    "                return round(number, digit - m_obj.start())\n",
    "    else:\n",
    "        return int(number)\n"
   ]
  },
  {
   "cell_type": "code",
   "execution_count": 40,
   "metadata": {},
   "outputs": [
    {
     "name": "stdout",
     "output_type": "stream",
     "text": [
      "8992\n",
      "0.00434\n",
      "0.543\n",
      "8.32\n",
      "4324\n",
      "500\n"
     ]
    }
   ],
   "source": [
    "for num in a:\n",
    "    print(func(num))"
   ]
  }
 ],
 "metadata": {
  "interpreter": {
   "hash": "97cc609b13305c559618ec78a438abc56230b9381f827f22d070313b9a1f3777"
  },
  "kernelspec": {
   "display_name": "Python 3.10.1 64-bit",
   "language": "python",
   "name": "python3"
  },
  "language_info": {
   "codemirror_mode": {
    "name": "ipython",
    "version": 3
   },
   "file_extension": ".py",
   "mimetype": "text/x-python",
   "name": "python",
   "nbconvert_exporter": "python",
   "pygments_lexer": "ipython3",
   "version": "3.10.1"
  },
  "orig_nbformat": 4
 },
 "nbformat": 4,
 "nbformat_minor": 2
}
