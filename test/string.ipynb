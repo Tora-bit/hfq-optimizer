{
 "cells": [
  {
   "cell_type": "code",
   "execution_count": 14,
   "metadata": {},
   "outputs": [],
   "source": [
    "a = \"\"\"\n",
    ".subckt psquid1        3  5 \n",
    "L1                 3         1   #@SQUIDL1(1.75)pH fcheck\n",
    "L2                 3         4   #@SQUIDL1(v=0.65,fix=true,lic=L2,bc=l2,global=32)pH fcheck\n",
    "B1                 1         5  jjmod area=#JJAREA1( v=0.49, fix = true,lic=L1,bc=P2,global=43)\n",
    "R1                 1         5   #@JJSHUNT1(16)ohm\n",
    "B2                 2         5  jjmod area=#JJAREA1(0.49)\n",
    "R2                 2         5   #@JJSHUNT1(16)ohm\n",
    "B3                 4         2  pjjmod area=#PJJAREA1(20)\n",
    "\"\"\""
   ]
  },
  {
   "cell_type": "code",
   "execution_count": 24,
   "metadata": {},
   "outputs": [],
   "source": [
    "def isint(s):  # 正規表現を使って判定を行う\n",
    "    p = '[-+]?\\d+'\n",
    "    return True if re.fullmatch(p, s) else False\n",
    "\n",
    "def isfloat(s):  # 正規表現を使って判定を行う\n",
    "    p = '[-+]?(\\d+\\.?\\d*|\\.\\d+)([eE][-+]?\\d+)?'\n",
    "    return True if re.fullmatch(p, s) else False\n",
    "\n",
    "def digit(s):  # 正規表現を使って小数点以下の桁数\n",
    "    if re.search(\"\\.\",s)!= None:\n",
    "        return len(re.split(\"\\.\",s)[1])\n",
    "    else:\n",
    "        return 0\n",
    "\n",
    "def stringToNum(s):\n",
    "    if isint(s):\n",
    "        return int(s)\n",
    "\n",
    "    elif isfloat(s):\n",
    "        return float(s)\n",
    "\n",
    "    else:\n",
    "        raise ValueError(\"値が数値ではありません。\")"
   ]
  },
  {
   "cell_type": "code",
   "execution_count": 20,
   "metadata": {},
   "outputs": [],
   "source": [
    "import re\n",
    "import pandas as pd\n",
    "\n",
    "df = pd.DataFrame(columns=['char','text','default','value','fix','lic','bc','global'])  \n",
    "df.set_index('char', inplace=True)\n",
    "b = re.findall('#.+\\(.+\\)',a)\n",
    "b = re.sub('\\s','',b)\n",
    "  \n"
   ]
  },
  {
   "cell_type": "code",
   "execution_count": 21,
   "metadata": {},
   "outputs": [
    {
     "name": "stdout",
     "output_type": "stream",
     "text": [
      "Empty DataFrame\n",
      "Columns: [text, default, value, fix, lic, bc, global]\n",
      "Index: []\n"
     ]
    }
   ],
   "source": [
    "print(df)"
   ]
  },
  {
   "cell_type": "code",
   "execution_count": 36,
   "metadata": {},
   "outputs": [
    {
     "ename": "ValueError",
     "evalue": "[ 1.75 ]の記述が読み取れません。",
     "output_type": "error",
     "traceback": [
      "\u001b[0;31m---------------------------------------------------------------------------\u001b[0m",
      "\u001b[0;31mValueError\u001b[0m                                Traceback (most recent call last)",
      "Input \u001b[0;32mIn [36]\u001b[0m, in \u001b[0;36m<module>\u001b[0;34m\u001b[0m\n\u001b[1;32m     47\u001b[0m         dic[\u001b[38;5;124m'\u001b[39m\u001b[38;5;124mglobal\u001b[39m\u001b[38;5;124m'\u001b[39m] \u001b[38;5;241m=\u001b[39m num\n\u001b[1;32m     48\u001b[0m     \u001b[38;5;28;01melse\u001b[39;00m:\n\u001b[0;32m---> 49\u001b[0m         \u001b[38;5;28;01mraise\u001b[39;00m \u001b[38;5;167;01mValueError\u001b[39;00m(\u001b[38;5;124m\"\u001b[39m\u001b[38;5;124m[ \u001b[39m\u001b[38;5;124m\"\u001b[39m\u001b[38;5;241m+\u001b[39msp\u001b[38;5;241m+\u001b[39m\u001b[38;5;124m\"\u001b[39m\u001b[38;5;124m ]の記述が読み取れません。\u001b[39m\u001b[38;5;124m\"\u001b[39m)\n\u001b[1;32m     50\u001b[0m \u001b[38;5;28mprint\u001b[39m(dic)\n",
      "\u001b[0;31mValueError\u001b[0m: [ 1.75 ]の記述が読み取れません。"
     ]
    }
   ],
   "source": [
    "for l in b:\n",
    "    dic = {'char': None,'text': None,'default': None,'value': None,'fix': False,'lic': None,'bc': None,'global': None}\n",
    "    char = re.search('#.+\\(',l, flags=re.IGNORECASE).group()\n",
    "    char = re.sub('#|\\(','',char)\n",
    "    dic['char']=char\n",
    "    dic['text']='#'+char\n",
    "    m = re.search('\\(.+\\)',l).group()\n",
    "    m = re.sub('\\(|\\)','',m)\n",
    "    spl = re.split(',',m)\n",
    "    if len(spl)==1:\n",
    "        if isfloat(spl[0]) or isint(spl[0]):\n",
    "            num = stringToNum(spl[0])\n",
    "            dic['default'] = num\n",
    "            dic['value'] = num\n",
    "    for sp in spl:\n",
    "        val = re.split('=',sp)\n",
    "        if len(val) == 1:\n",
    "            if isfloat(val[0]) or isint(val[0]):\n",
    "                num = stringToNum(spl[0])\n",
    "                dic['default'] = num\n",
    "                dic['value'] = num\n",
    "        elif len(val) != 2:\n",
    "            print(len(val))\n",
    "            raise ValueError(\"[ \"+sp+\" ]の記述が読み取れません。\",len(val))\n",
    "\n",
    "        if re.fullmatch('v|value',val[0],flags=re.IGNORECASE):\n",
    "            num = stringToNum(val[1])\n",
    "            dic['default'] = num\n",
    "            dic['value'] = num\n",
    "        elif re.fullmatch('fix|fixed',val[0],flags=re.IGNORECASE):\n",
    "            if re.fullmatch('true',val[1],flags=re.IGNORECASE):\n",
    "                dic['fix'] = True\n",
    "            else:\n",
    "                dic['fix'] = False\n",
    "        elif re.fullmatch('lic',val[0],flags=re.IGNORECASE):\n",
    "            if re.fullmatch('(L|Ic|I)\\d+',val[1],flags=re.IGNORECASE):\n",
    "                dic['lic'] = val[1]\n",
    "            else:\n",
    "                raise ValueError(\"[ \"+sp+\" ]のLIc積の記述が読み取れません。\")\n",
    "        elif re.fullmatch('(β|b)c',val[0],flags=re.IGNORECASE):\n",
    "            if re.fullmatch('(A|R)\\d+',val[1],flags=re.IGNORECASE):\n",
    "                dic['bc'] = val[1]\n",
    "            else:\n",
    "                raise ValueError(\"[ \"+sp+\" ]のbcの記述が読み取れません。\")\n",
    "        elif re.fullmatch('global',val[0],flags=re.IGNORECASE):\n",
    "            num = stringToNum(val[1])\n",
    "            dic['global'] = num\n",
    "        else:\n",
    "            raise ValueError(\"[ \"+sp+\" ]の記述が読み取れません。\")\n",
    "    print(dic)"
   ]
  }
 ],
 "metadata": {
  "interpreter": {
   "hash": "97cc609b13305c559618ec78a438abc56230b9381f827f22d070313b9a1f3777"
  },
  "kernelspec": {
   "display_name": "Python 3.10.1 64-bit",
   "language": "python",
   "name": "python3"
  },
  "language_info": {
   "codemirror_mode": {
    "name": "ipython",
    "version": 3
   },
   "file_extension": ".py",
   "mimetype": "text/x-python",
   "name": "python",
   "nbconvert_exporter": "python",
   "pygments_lexer": "ipython3",
   "version": "3.10.1"
  },
  "orig_nbformat": 4
 },
 "nbformat": 4,
 "nbformat_minor": 2
}
