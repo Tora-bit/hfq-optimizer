{
 "cells": [
  {
   "cell_type": "code",
   "execution_count": 6,
   "metadata": {},
   "outputs": [
    {
     "name": "stdout",
     "output_type": "stream",
     "text": [
      "5e-05\n",
      "1.0521689594481747\n"
     ]
    }
   ],
   "source": [
    "import math\n",
    "# dic = {'m':,'μ':,'n','p':}\n",
    "# Cはプロセスによって決まる。\n",
    "area = 0.5\n",
    "R_shant = 15.88\n",
    "\n",
    "\n",
    "c = 0.064 * 10 ** -12 * area\n",
    "# print(c)\n",
    "Ic = 0.1 * 10 ** -3 * area\n",
    "print(Ic)\n",
    "\n",
    "R_subgap = 100 / area\n",
    "\n",
    "Rj = (R_shant*R_subgap/(R_shant + R_subgap))**2\n",
    "phi = 2.068 * 10 ** -15\n",
    "\n",
    "bc = (2 * math.pi * Ic * c * Rj) / phi\n",
    "\n",
    "print(bc)"
   ]
  },
  {
   "cell_type": "code",
   "execution_count": null,
   "metadata": {},
   "outputs": [],
   "source": []
  }
 ],
 "metadata": {
  "interpreter": {
   "hash": "97cc609b13305c559618ec78a438abc56230b9381f827f22d070313b9a1f3777"
  },
  "kernelspec": {
   "display_name": "Python 3.10.1 64-bit",
   "language": "python",
   "name": "python3"
  },
  "language_info": {
   "codemirror_mode": {
    "name": "ipython",
    "version": 3
   },
   "file_extension": ".py",
   "mimetype": "text/x-python",
   "name": "python",
   "nbconvert_exporter": "python",
   "pygments_lexer": "ipython3",
   "version": "3.10.1"
  },
  "orig_nbformat": 4
 },
 "nbformat": 4,
 "nbformat_minor": 2
}
