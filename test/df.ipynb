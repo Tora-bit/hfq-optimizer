{
 "cells": [
  {
   "cell_type": "code",
   "execution_count": 16,
   "metadata": {},
   "outputs": [
    {
     "name": "stdout",
     "output_type": "stream",
     "text": [
      "            time element phase\n",
      "name                          \n",
      "fhsjfhdsk  73289   dadsa  dsad\n"
     ]
    }
   ],
   "source": [
    "import pandas as pd\n",
    "\n",
    "df = pd.DataFrame(columns=['name', 'time', 'element', 'phase'])\n",
    "df.set_index('name',inplace = True)\n",
    "df.loc[\"fhsjfhdsk\"] = [73289, 'dadsa', 'dsad']\n",
    "print(df)"
   ]
  },
  {
   "cell_type": "code",
   "execution_count": 18,
   "metadata": {},
   "outputs": [
    {
     "name": "stdout",
     "output_type": "stream",
     "text": [
      "B1|X1|X1|X5B2|X1|X1|X5\n",
      "B1|X1|X1|X2B2|X1|X1|X2\n",
      "B1|X1|X1|X8B2|X1|X1|X8\n"
     ]
    }
   ],
   "source": [
    "idnex = \"\"\n",
    "ls = [['B1|X1|X1|X5', 'B2|X1|X1|X5'], ['B1|X1|X1|X2', 'B2|X1|X1|X2'], ['B1|X1|X1|X8', 'B2|X1|X1|X8']]\n",
    "for l in ls:\n",
    "    print(''.join(l))\n",
    "        "
   ]
  },
  {
   "cell_type": "code",
   "execution_count": 1,
   "metadata": {},
   "outputs": [
    {
     "name": "stdout",
     "output_type": "stream",
     "text": [
      "         default  value  fixed           text\n",
      "char                                         \n",
      "DCHFQR1      150    150  False  #DCHFQR1(150)\n",
      "DCHFQL1       20     20  False   #DCHFQL1(20)\n",
      "DCHFQL2        4      4  False    #DCHFQL2(4)\n",
      "DCHFQR2      100    100  False  #DCHFQR2(100)\n",
      "JTLL1         18     18  False     #JTLL1(18)\n",
      "JTLR1        100    100  False    #JTLR1(100)\n",
      "DFFL1         10     10  False     #DFFL1(10)\n",
      "@DFFL2        18     18   True    #@DFFL2(18)\n",
      "DFFL3         18     18  False     #DFFL3(18)\n",
      "DFFL4         18     18  False     #DFFL4(18)\n",
      "DFFR1        100    100  False    #DFFR1(100)\n",
      "DFFL6         10     10  False     #DFFL6(10)\n"
     ]
    }
   ],
   "source": [
    "s = \"\"\"\n",
    "char  default value  fixed           text                                   \n",
    "DCHFQR1     150   150  False  #DCHFQR1(150)\n",
    "DCHFQL1      20    20  False   #DCHFQL1(20)\n",
    "DCHFQL2       4     4  False    #DCHFQL2(4)\n",
    "DCHFQR2     100   100  False  #DCHFQR2(100)\n",
    "JTLL1        18    18  False     #JTLL1(18)\n",
    "JTLR1       100   100  False    #JTLR1(100)\n",
    "DFFL1        10    10  False     #DFFL1(10)\n",
    "@DFFL2       18    18   True    #@DFFL2(18)\n",
    "DFFL3        18    18  False     #DFFL3(18)\n",
    "DFFL4        18    18  False     #DFFL4(18)\n",
    "DFFR1       100   100  False    #DFFR1(100)\n",
    "DFFL6        10    10  False     #DFFL6(10)\n",
    "\"\"\"\n",
    "import io\n",
    "import pandas as pd\n",
    "df2 = pd.read_csv(io.StringIO(s),index_col=0,header=0, sep='\\s+') \n",
    "print(df2)"
   ]
  },
  {
   "cell_type": "code",
   "execution_count": 7,
   "metadata": {},
   "outputs": [
    {
     "name": "stdout",
     "output_type": "stream",
     "text": [
      "         default  value  fixed           text  low(value)  high(value)\n",
      "char                                                                  \n",
      "DCHFQR1      NaN    NaN    NaN            NaN          10           43\n",
      "DCHFQL1     20.0   20.0  False   #DCHFQL1(20)           0            0\n",
      "DCHFQL2      4.0    4.0  False    #DCHFQL2(4)           0            0\n",
      "DCHFQR2    100.0  100.0  False  #DCHFQR2(100)           0            0\n",
      "JTLL1       18.0   18.0  False     #JTLL1(18)           0            0\n",
      "JTLR1      100.0  100.0  False    #JTLR1(100)           0            0\n",
      "DFFL1       10.0   10.0  False     #DFFL1(10)           0            0\n",
      "@DFFL2      18.0   18.0   True    #@DFFL2(18)           0            0\n",
      "DFFL3       18.0   18.0  False     #DFFL3(18)           0            0\n",
      "DFFL4       18.0   18.0  False     #DFFL4(18)           0            0\n",
      "DFFR1      100.0  100.0  False    #DFFR1(100)           0            0\n",
      "DFFL6       10.0   10.0  False     #DFFL6(10)           0            0\n"
     ]
    }
   ],
   "source": [
    "df2['low(value)'] = 0\n",
    "df2['high(value)'] = 0\n",
    "# print(df2)\n",
    "\n",
    "df2.loc['DCHFQR1'] = {'low(value)' : 10, 'high(value)' : 43}\n",
    "\n",
    "print(df2)"
   ]
  }
 ],
 "metadata": {
  "interpreter": {
   "hash": "97cc609b13305c559618ec78a438abc56230b9381f827f22d070313b9a1f3777"
  },
  "kernelspec": {
   "display_name": "Python 3.10.1 64-bit",
   "language": "python",
   "name": "python3"
  },
  "language_info": {
   "codemirror_mode": {
    "name": "ipython",
    "version": 3
   },
   "file_extension": ".py",
   "mimetype": "text/x-python",
   "name": "python",
   "nbconvert_exporter": "python",
   "pygments_lexer": "ipython3",
   "version": "3.10.1"
  },
  "orig_nbformat": 4
 },
 "nbformat": 4,
 "nbformat_minor": 2
}
