{
 "cells": [
  {
   "cell_type": "code",
   "execution_count": 16,
   "metadata": {},
   "outputs": [
    {
     "name": "stdout",
     "output_type": "stream",
     "text": [
      "            time element phase\n",
      "name                          \n",
      "fhsjfhdsk  73289   dadsa  dsad\n"
     ]
    }
   ],
   "source": [
    "import pandas as pd\n",
    "\n",
    "df = pd.DataFrame(columns=['name', 'time', 'element', 'phase'])\n",
    "df.set_index('name',inplace = True)\n",
    "df.loc[\"fhsjfhdsk\"] = [73289, 'dadsa', 'dsad']\n",
    "print(df)"
   ]
  },
  {
   "cell_type": "code",
   "execution_count": 18,
   "metadata": {},
   "outputs": [
    {
     "name": "stdout",
     "output_type": "stream",
     "text": [
      "B1|X1|X1|X5B2|X1|X1|X5\n",
      "B1|X1|X1|X2B2|X1|X1|X2\n",
      "B1|X1|X1|X8B2|X1|X1|X8\n"
     ]
    }
   ],
   "source": [
    "idnex = \"\"\n",
    "ls = [['B1|X1|X1|X5', 'B2|X1|X1|X5'], ['B1|X1|X1|X2', 'B2|X1|X1|X2'], ['B1|X1|X1|X8', 'B2|X1|X1|X8']]\n",
    "for l in ls:\n",
    "    print(''.join(l))\n",
    "        "
   ]
  }
 ],
 "metadata": {
  "interpreter": {
   "hash": "97cc609b13305c559618ec78a438abc56230b9381f827f22d070313b9a1f3777"
  },
  "kernelspec": {
   "display_name": "Python 3.10.1 64-bit",
   "language": "python",
   "name": "python3"
  },
  "language_info": {
   "codemirror_mode": {
    "name": "ipython",
    "version": 3
   },
   "file_extension": ".py",
   "mimetype": "text/x-python",
   "name": "python",
   "nbconvert_exporter": "python",
   "pygments_lexer": "ipython3",
   "version": "3.10.1"
  },
  "orig_nbformat": 4
 },
 "nbformat": 4,
 "nbformat_minor": 2
}
