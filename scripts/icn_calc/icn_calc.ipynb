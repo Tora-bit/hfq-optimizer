{
 "cells": [
  {
   "cell_type": "code",
   "execution_count": 2,
   "metadata": {},
   "outputs": [],
   "source": [
    "import math\n",
    "\n",
    "def igic(x: float, licphi: float, exphi: float):\n",
    "    if licphi < 1.0e-10:\n",
    "        return 2*math.fabs(math.sin(exphi*math.pi))\n",
    "    else:\n",
    "        tmp1 = (x /math.pi - math.fabs(exphi))/licphi\n",
    "        tmp2 = math.sin(x)**2 - (tmp1 * math.tan(x))**2\n",
    "        if tmp2 < 0:\n",
    "            return 0\n",
    "        else:\n",
    "            return math.sqrt(tmp2)*2\n",
    "\n",
    "\n",
    "def igic_max(licphi: float, exphi: float, accuracy: int = 1000):\n",
    "    max = 0\n",
    "    for i in range(1,accuracy):\n",
    "        x = (i/accuracy)*math.pi *2\n",
    "        val = igic(x, licphi, exphi)\n",
    "        if val > max:\n",
    "            max = val\n",
    "    return max"
   ]
  },
  {
   "cell_type": "code",
   "execution_count": 8,
   "metadata": {},
   "outputs": [
    {
     "ename": "TypeError",
     "evalue": "show() got an unexpected keyword argument 'fontsize'",
     "output_type": "error",
     "traceback": [
      "\u001b[0;31m---------------------------------------------------------------------------\u001b[0m",
      "\u001b[0;31mTypeError\u001b[0m                                 Traceback (most recent call last)",
      "\u001b[1;32m/home/tanetakumi/main/hfq-optimizer/scripts/icn_calc/icn_calc.ipynb Cell 2'\u001b[0m in \u001b[0;36m<module>\u001b[0;34m\u001b[0m\n\u001b[1;32m      <a href='vscode-notebook-cell://ssh-remote%2Blab/home/tanetakumi/main/hfq-optimizer/scripts/icn_calc/icn_calc.ipynb#ch0000002vscode-remote?line=4'>5</a>\u001b[0m     y \u001b[39m=\u001b[39m igic_max(x_inp, exphi\u001b[39m=\u001b[39m\u001b[39m0\u001b[39m)\n\u001b[1;32m      <a href='vscode-notebook-cell://ssh-remote%2Blab/home/tanetakumi/main/hfq-optimizer/scripts/icn_calc/icn_calc.ipynb#ch0000002vscode-remote?line=5'>6</a>\u001b[0m     plt\u001b[39m.\u001b[39mplot(x_inp,y,\u001b[39m'\u001b[39m\u001b[39m.\u001b[39m\u001b[39m'\u001b[39m,c\u001b[39m=\u001b[39m\u001b[39m\"\u001b[39m\u001b[39mred\u001b[39m\u001b[39m\"\u001b[39m)\n\u001b[0;32m----> <a href='vscode-notebook-cell://ssh-remote%2Blab/home/tanetakumi/main/hfq-optimizer/scripts/icn_calc/icn_calc.ipynb#ch0000002vscode-remote?line=6'>7</a>\u001b[0m plt\u001b[39m.\u001b[39;49mshow(fontsize\u001b[39m=\u001b[39;49m\u001b[39m12\u001b[39;49m)\n",
      "File \u001b[0;32m~/.local/lib/python3.10/site-packages/matplotlib/pyplot.py:368\u001b[0m, in \u001b[0;36mshow\u001b[0;34m(*args, **kwargs)\u001b[0m\n\u001b[1;32m    <a href='file:///~/.local/lib/python3.10/site-packages/matplotlib/pyplot.py?line=323'>324</a>\u001b[0m \u001b[39m\"\"\"\u001b[39;00m\n\u001b[1;32m    <a href='file:///~/.local/lib/python3.10/site-packages/matplotlib/pyplot.py?line=324'>325</a>\u001b[0m \u001b[39mDisplay all open figures.\u001b[39;00m\n\u001b[1;32m    <a href='file:///~/.local/lib/python3.10/site-packages/matplotlib/pyplot.py?line=325'>326</a>\u001b[0m \n\u001b[0;32m   (...)\u001b[0m\n\u001b[1;32m    <a href='file:///~/.local/lib/python3.10/site-packages/matplotlib/pyplot.py?line=364'>365</a>\u001b[0m \u001b[39mexplicitly there.\u001b[39;00m\n\u001b[1;32m    <a href='file:///~/.local/lib/python3.10/site-packages/matplotlib/pyplot.py?line=365'>366</a>\u001b[0m \u001b[39m\"\"\"\u001b[39;00m\n\u001b[1;32m    <a href='file:///~/.local/lib/python3.10/site-packages/matplotlib/pyplot.py?line=366'>367</a>\u001b[0m _warn_if_gui_out_of_main_thread()\n\u001b[0;32m--> <a href='file:///~/.local/lib/python3.10/site-packages/matplotlib/pyplot.py?line=367'>368</a>\u001b[0m \u001b[39mreturn\u001b[39;00m _backend_mod\u001b[39m.\u001b[39;49mshow(\u001b[39m*\u001b[39;49margs, \u001b[39m*\u001b[39;49m\u001b[39m*\u001b[39;49mkwargs)\n",
      "\u001b[0;31mTypeError\u001b[0m: show() got an unexpected keyword argument 'fontsize'"
     ]
    },
    {
     "data": {
      "image/png": "[encoded data removed]",
      "text/plain": [
       "<Figure size 432x288 with 1 Axes>"
      ]
     },
     "metadata": {
      "needs_background": "light"
     },
     "output_type": "display_data"
    }
   ],
   "source": [
    "import matplotlib.pyplot as plt\n",
    "x = range(100)\n",
    "y = []\n",
    "for i in x:\n",
    "    y.append(igic_max(i/100, exphi=0))\n",
    "    plt.plot(x, y, '.', c=\"red\")\n"
   ]
  },
  {
   "cell_type": "code",
   "execution_count": 6,
   "metadata": {},
   "outputs": [
    {
     "name": "stdout",
     "output_type": "stream",
     "text": [
      "1.6590696114892948e-05\n"
     ]
    }
   ],
   "source": [
    "L = 2.076 * 2 * (10 ** -12)\n",
    "Ic = 0.1 * 0.522 * 10 ** (-3)\n",
    "a = L * Ic / (2.07 * 10 ** (-15))\n",
    "ig_ic = igic_max(licphi=a, exphi=0)\n",
    "\n",
    "print(ig_ic * Ic)"
   ]
  }
 ],
 "metadata": {
  "interpreter": {
   "hash": "97cc609b13305c559618ec78a438abc56230b9381f827f22d070313b9a1f3777"
  },
  "kernelspec": {
   "display_name": "Python 3.10.1 64-bit",
   "language": "python",
   "name": "python3"
  },
  "language_info": {
   "codemirror_mode": {
    "name": "ipython",
    "version": 3
   },
   "file_extension": ".py",
   "mimetype": "text/x-python",
   "name": "python",
   "nbconvert_exporter": "python",
   "pygments_lexer": "ipython3",
   "version": "3.10.1"
  },
  "orig_nbformat": 4
 },
 "nbformat": 4,
 "nbformat_minor": 2
}
