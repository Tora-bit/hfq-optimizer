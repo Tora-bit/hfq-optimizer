{
 "cells": [
  {
   "cell_type": "code",
   "execution_count": 20,
   "metadata": {},
   "outputs": [],
   "source": [
    "import math\n",
    "\n",
    "def igic(x: float, licphi: float, exphi: float):\n",
    "    if licphi < 1.0e-10:\n",
    "        return 2*math.fabs(math.sin(exphi*math.pi))\n",
    "    else:\n",
    "        tmp1 = (x /math.pi - math.fabs(exphi))/licphi\n",
    "        tmp2 = math.sin(x)**2 - (tmp1 * math.tan(x))**2\n",
    "        if tmp2 < 0:\n",
    "            return 0\n",
    "        else:\n",
    "            return math.sqrt(tmp2)*2\n",
    "\n",
    "\n",
    "def igic_max(licphi: float, exphi: float, accuracy: int = 1000):\n",
    "    max = 0\n",
    "    for i in range(1,accuracy):\n",
    "        x = (i/accuracy)*math.pi *2\n",
    "        val = igic(x, licphi, exphi)\n",
    "        if val > max:\n",
    "            max = val\n",
    "    return max"
   ]
  },
  {
   "cell_type": "code",
   "execution_count": null,
   "metadata": {},
   "outputs": [],
   "source": [
    "import matplotlib.pyplot as plt\n",
    "a = range(0, 7)\n"
   ]
  },
  {
   "cell_type": "code",
   "execution_count": 31,
   "metadata": {},
   "outputs": [
    {
     "name": "stdout",
     "output_type": "stream",
     "text": [
      "0.04492753623188406\n",
      "4.344691152956476e-06\n"
     ]
    }
   ],
   "source": [
    "L = 1.5 * 2 * (10 ** -12)\n",
    "Ic = 0.1 * 0.31 * 10 ** (-3)\n",
    "a = L * Ic / (2.07 * 10 ** (-15))\n",
    "print(a)\n",
    "ig_ic = igic_max(licphi=a, exphi=0)\n",
    "\n",
    "print(ig_ic * Ic)"
   ]
  }
 ],
 "metadata": {
  "interpreter": {
   "hash": "97cc609b13305c559618ec78a438abc56230b9381f827f22d070313b9a1f3777"
  },
  "kernelspec": {
   "display_name": "Python 3.10.1 64-bit",
   "language": "python",
   "name": "python3"
  },
  "language_info": {
   "codemirror_mode": {
    "name": "ipython",
    "version": 3
   },
   "file_extension": ".py",
   "mimetype": "text/x-python",
   "name": "python",
   "nbconvert_exporter": "python",
   "pygments_lexer": "ipython3",
   "version": "3.10.1"
  },
  "orig_nbformat": 4
 },
 "nbformat": 4,
 "nbformat_minor": 2
}
