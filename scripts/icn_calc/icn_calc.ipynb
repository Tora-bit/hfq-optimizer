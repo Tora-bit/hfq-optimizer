{
 "cells": [
  {
   "cell_type": "code",
   "execution_count": 27,
   "metadata": {},
   "outputs": [],
   "source": [
    "import math\n",
    "\n",
    "def igic(x: float, licphi: float, exphi: float):\n",
    "    if licphi < 1.0e-10:\n",
    "        return 2*math.fabs(math.sin(exphi*math.pi))\n",
    "    else:\n",
    "        tmp1 = (x /math.pi - math.fabs(exphi))/licphi\n",
    "        tmp2 = math.sin(x)**2 - (tmp1 * math.tan(x))**2\n",
    "        if tmp2 < 0:\n",
    "            return 0\n",
    "        else:\n",
    "            return math.sqrt(tmp2)*2\n",
    "\n",
    "\n",
    "def igic_max(licphi: float, exphi: float, accuracy: int = 1000):\n",
    "    max = 0\n",
    "    for i in range(1,accuracy):\n",
    "        x = (i/accuracy)*math.pi *2\n",
    "        val = igic(x, licphi, exphi)\n",
    "        if val > max:\n",
    "            max = val\n",
    "    return max"
   ]
  },
  {
   "cell_type": "code",
   "execution_count": 28,
   "metadata": {},
   "outputs": [
    {
     "data": {
      "text/plain": [
       "'\\nimport matplotlib.pyplot as plt\\nx = [ i/1000 for i in range(1500) ]\\ny = []\\nfor i in x:\\n    y.append(igic_max(i, exphi=0))\\n\\nprint(y)\\nplt.figure(figsize=(10,7))\\nplt.tick_params(labelsize=15)\\n# 緑色のサインカーブを描く\\nplt.plot(x, y, color = \"green\")\\n'"
      ]
     },
     "execution_count": 28,
     "metadata": {},
     "output_type": "execute_result"
    }
   ],
   "source": [
    "\"\"\"\n",
    "import matplotlib.pyplot as plt\n",
    "x = [ i/1000 for i in range(1500) ]\n",
    "y = []\n",
    "for i in x:\n",
    "    y.append(igic_max(i, exphi=0))\n",
    "\n",
    "print(y)\n",
    "plt.figure(figsize=(10,7))\n",
    "plt.tick_params(labelsize=15)\n",
    "# 緑色のサインカーブを描く\n",
    "plt.plot(x, y, color = \"green\")\n",
    "\"\"\"\n",
    "\n",
    "\n"
   ]
  },
  {
   "cell_type": "code",
   "execution_count": 31,
   "metadata": {},
   "outputs": [
    {
     "name": "stdout",
     "output_type": "stream",
     "text": [
      "2.449447709621844e-05\n"
     ]
    }
   ],
   "source": [
    "L = 2.33 * 2 * (10 ** -12)\n",
    "Ic = 0.1 * 0.605 * 10 ** (-3)\n",
    "a = L * Ic / (2.07 * 10 ** (-15))\n",
    "ig_ic = igic_max(licphi=a, exphi=0)\n",
    "\n",
    "print(ig_ic * Ic)"
   ]
  },
  {
   "cell_type": "code",
   "execution_count": 30,
   "metadata": {},
   "outputs": [
    {
     "data": {
      "text/plain": [
       "1.2983061746299846e-05"
      ]
     },
     "execution_count": 30,
     "metadata": {},
     "output_type": "execute_result"
    }
   ],
   "source": [
    "1.2983061746299846e-05"
   ]
  }
 ],
 "metadata": {
  "interpreter": {
   "hash": "36cf16204b8548560b1c020c4e8fb5b57f0e4c58016f52f2d4be01e192833930"
  },
  "kernelspec": {
   "display_name": "Python 3.9.5 64-bit",
   "language": "python",
   "name": "python3"
  },
  "language_info": {
   "codemirror_mode": {
    "name": "ipython",
    "version": 3
   },
   "file_extension": ".py",
   "mimetype": "text/x-python",
   "name": "python",
   "nbconvert_exporter": "python",
   "pygments_lexer": "ipython3",
   "version": "3.9.5"
  },
  "orig_nbformat": 4
 },
 "nbformat": 4,
 "nbformat_minor": 2
}
