{
 "cells": [
  {
   "cell_type": "markdown",
   "metadata": {},
   "source": [
    "2022年1月17日 記載\n",
    "\n",
    "初めまして、B4のTです。\n",
    "JoSIMの使い方とPythonでWrapperを作成したのでこちらに記していきます。"
   ]
  },
  {
   "cell_type": "code",
   "execution_count": 23,
   "metadata": {},
   "outputs": [
    {
     "name": "stdout",
     "output_type": "stream",
     "text": [
      "\n",
      "\n",
      ".model jjmod jj(Rtype=1, Vg=2.8mV, Cap=0.064pF, R0=100ohm, Rn=16ohm, Icrit=0.1mA)\n",
      ".model pjjmod jj(Rtype=1, Vg=2.8mV, Cap=0.064pF, R0=100ohm, Rn=16ohm, Icrit=0.1mA, PHI=PI)\n",
      "\n",
      "* PYSQUID=====================================\n",
      ".subckt psquid1        3  5 \n",
      "L1                 3         1   1.69pH fcheck\n",
      "L2                 3         4   1.69pH fcheck\n",
      "B1                 1         5   jjmod area=0.41\n",
      "R1                 1         5   18.91ohm\n",
      "B2                 2         5   jjmod area=0.41\n",
      "R2                 2         5   18.91ohm\n",
      "B3                 4         2   pjjmod area=20\n",
      ".ends\n",
      "\n",
      ".subckt psquid2        3  5 \n",
      "L1                 3         1   1.44pH fcheck\n",
      "L2                 3         4   1.44pH fcheck\n",
      "B1                 1         5   jjmod area=0.38\n",
      "R1                 1         5   20.11ohm\n",
      "B2                 2         5   jjmod area=0.38\n",
      "R2                 2         5   20.11ohm\n",
      "B3                 4         2   pjjmod area=20\n",
      ".ends\n",
      "\n",
      ".subckt psquid3        3  5 \n",
      "L1                 3         1   1.64pH fcheck\n",
      "L2                 3         4   1.64pH fcheck\n",
      "B1                 1         5   jjmod area=0.5\n",
      "R1                 1         5   19.48ohm\n",
      "B2                 2         5   jjmod area=0.5\n",
      "R2                 2         5   19.48ohm\n",
      "B3                 4         2   pjjmod area=20\n",
      ".ends\n",
      "* ============================================\n",
      "\n",
      ".subckt DCHFQ 1 6 100\n",
      "* 250-350  750-850  1250-1350\n",
      "Rin                     1        2    1394ohm\n",
      "L0                      2        3    2pH fcheck\n",
      "L1                      3        0    37.89pH fcheck\n",
      "X1       psquid1         3        4\n",
      "L3                      4        5    4.02pH fcheck\n",
      "L4                      5        6    2.00pH fcheck\n",
      "R1                      100      5    100ohm\n",
      "X2       psquid2         6        0\n",
      ".ends\n",
      "\n",
      ".subckt JTL     1  5  100\n",
      "L1               1  2   13.91pH fcheck\n",
      "L2               2  3   13.91pH fcheck\n",
      "L3               3  4   13.91pH fcheck\n",
      "L4               4  5   13.91pH fcheck\n",
      "X1    psquid3     3  0\n",
      "X2    psquid3     5  0\n",
      "R1               100  4   125.43ohm\n",
      ".ends\n",
      "\n",
      ".subckt JTL4    1  5  100\n",
      "X1       JTL            1  2  100\n",
      "X2       JTL            2  3  100\n",
      "X3       JTL            3  4  100\n",
      "X4       JTL            4  5  100\n",
      ".ends\n",
      "\n",
      "*** top cell:  \n",
      "Vin                     1   0    PWL(0ps 0mV 440ps 0mV 450ps 25mV 550ps 25mV 560ps 0mV   840ps 0mV 850ps 25mV 950ps 25mV 960ps 0mV   1240ps 0mV 1250ps 25mV 1350ps 25mV 1360ps 0mV)\n",
      "X1      DCHFQ           1   2  100\n",
      "X2      JTL4            2   3   100\n",
      "X3      JTL4            3   4   100\n",
      "X4      JTL4            4   5   100\n",
      "\n",
      "R2                      5     13  8.32ohm\n",
      "L5                      13     0  2pH fcheck\n",
      "Vb                      100    0  pwl(0ps 0mV 100ps 1.2mV)\n",
      "\n",
      "\n",
      "**netlis file\n",
      ".tran 1.0ps 2000ps 0ps 1ps\n",
      "\n",
      ".print devv B1|X1|X1|X3\n",
      ".print devv B2|X1|X1|X3\n",
      "\n",
      ".end\n",
      "\n",
      "**** optimize ****\n",
      "* バイアス電圧の立ち上がり終了の時間\n",
      "* EndTimeOfBiasRise=100e-12\n",
      "* 初期パルスの入力開始時間\n",
      "* StartTimeOfPulseInput=400e-12\n",
      "\n"
     ]
    }
   ],
   "source": [
    "netlist=\"\"\"\n",
    "\n",
    ".model jjmod jj(Rtype=1, Vg=2.8mV, Cap=0.064pF, R0=100ohm, Rn=16ohm, Icrit=0.1mA)\n",
    ".model pjjmod jj(Rtype=1, Vg=2.8mV, Cap=0.064pF, R0=100ohm, Rn=16ohm, Icrit=0.1mA, PHI=PI)\n",
    "\n",
    "* PYSQUID=====================================\n",
    ".subckt psquid1        3  5 \n",
    "L1                 3         1   1.69pH fcheck\n",
    "L2                 3         4   1.69pH fcheck\n",
    "B1                 1         5   jjmod area=0.41\n",
    "R1                 1         5   18.91ohm\n",
    "B2                 2         5   jjmod area=0.41\n",
    "R2                 2         5   18.91ohm\n",
    "B3                 4         2   pjjmod area=20\n",
    ".ends\n",
    "\n",
    ".subckt psquid2        3  5 \n",
    "L1                 3         1   1.44pH fcheck\n",
    "L2                 3         4   1.44pH fcheck\n",
    "B1                 1         5   jjmod area=0.38\n",
    "R1                 1         5   20.11ohm\n",
    "B2                 2         5   jjmod area=0.38\n",
    "R2                 2         5   20.11ohm\n",
    "B3                 4         2   pjjmod area=20\n",
    ".ends\n",
    "\n",
    ".subckt psquid3        3  5 \n",
    "L1                 3         1   1.64pH fcheck\n",
    "L2                 3         4   1.64pH fcheck\n",
    "B1                 1         5   jjmod area=0.5\n",
    "R1                 1         5   19.48ohm\n",
    "B2                 2         5   jjmod area=0.5\n",
    "R2                 2         5   19.48ohm\n",
    "B3                 4         2   pjjmod area=20\n",
    ".ends\n",
    "* ============================================\n",
    "\n",
    ".subckt DCHFQ 1 6 100\n",
    "* 250-350  750-850  1250-1350\n",
    "Rin                     1        2    1394ohm\n",
    "L0                      2        3    2pH fcheck\n",
    "L1                      3        0    37.89pH fcheck\n",
    "X1       psquid1         3        4\n",
    "L3                      4        5    4.02pH fcheck\n",
    "L4                      5        6    2.00pH fcheck\n",
    "R1                      100      5    100ohm\n",
    "X2       psquid2         6        0\n",
    ".ends\n",
    "\n",
    ".subckt JTL     1  5  100\n",
    "L1               1  2   13.91pH fcheck\n",
    "L2               2  3   13.91pH fcheck\n",
    "L3               3  4   13.91pH fcheck\n",
    "L4               4  5   13.91pH fcheck\n",
    "X1    psquid3     3  0\n",
    "X2    psquid3     5  0\n",
    "R1               100  4   125.43ohm\n",
    ".ends\n",
    "\n",
    ".subckt JTL4    1  5  100\n",
    "X1       JTL            1  2  100\n",
    "X2       JTL            2  3  100\n",
    "X3       JTL            3  4  100\n",
    "X4       JTL            4  5  100\n",
    ".ends\n",
    "\n",
    "*** top cell:  \n",
    "Vin                     1   0    PWL(0ps 0mV 440ps 0mV 450ps 25mV 550ps 25mV 560ps 0mV   840ps 0mV 850ps 25mV 950ps 25mV 960ps 0mV   1240ps 0mV 1250ps 25mV 1350ps 25mV 1360ps 0mV)\n",
    "X1      DCHFQ           1   2  100\n",
    "X2      JTL4            2   3   100\n",
    "X3      JTL4            3   4   100\n",
    "X4      JTL4            4   5   100\n",
    "\n",
    "R2                      5     13  8.32ohm\n",
    "L5                      13     0  2pH fcheck\n",
    "Vb                      100    0  pwl(0ps 0mV 100ps 1.2mV)\n",
    "\n",
    "\n",
    "**netlis file\n",
    ".tran 1.0ps 2000ps 0ps 1ps\n",
    "\n",
    ".print devv B1|X1|X1|X3\n",
    ".print devv B2|X1|X1|X3\n",
    "\n",
    ".print phase B1|X1|X1|X3\n",
    ".print phase B2|X1|X1|X3\n",
    ".end\n",
    "\n",
    "**** optimize ****\n",
    "* バイアス電圧の立ち上がり終了の時間\n",
    "* EndTimeOfBiasRise=100e-12\n",
    "* 初期パルスの入力開始時間\n",
    "* StartTimeOfPulseInput=400e-12\n",
    "\"\"\"\n",
    "\n",
    "# Show the netlist data\n",
    "print(netlist)"
   ]
  },
  {
   "cell_type": "markdown",
   "metadata": {},
   "source": [
    "pyjosimという簡単なJoSIMのWrapperパッケージを作成しました。こちらをインポートしてください。"
   ]
  },
  {
   "cell_type": "code",
   "execution_count": 24,
   "metadata": {},
   "outputs": [
    {
     "name": "stdout",
     "output_type": "stream",
     "text": [
      "              V(B1|X1|X1|X3)  V(B2|X1|X1|X3)\n",
      "time                                        \n",
      "0.000000e+00    1.624411e-07    5.100156e-07\n",
      "1.000000e-12    8.555142e-07    5.683449e-07\n",
      "2.000000e-12    7.891817e-07    7.617216e-07\n",
      "3.000000e-12    6.850263e-07    7.577397e-07\n",
      "4.000000e-12    6.537384e-07    6.760284e-07\n",
      "...                      ...             ...\n",
      "1.995000e-09   -1.811882e-05    1.237539e-05\n",
      "1.996000e-09   -1.811882e-05    1.237539e-05\n",
      "1.997000e-09   -1.811882e-05    1.237539e-05\n",
      "1.998000e-09   -1.811882e-05    1.237539e-05\n",
      "1.999000e-09   -1.811882e-05    1.237539e-05\n",
      "\n",
      "[2000 rows x 2 columns]\n"
     ]
    }
   ],
   "source": [
    "from pyjosim.pyjosim import simulation\n",
    "\n",
    "df = simulation(netlist)\n",
    "\n",
    "# Show dataframe\n",
    "print(df)"
   ]
  },
  {
   "cell_type": "code",
   "execution_count": 25,
   "metadata": {},
   "outputs": [
    {
     "data": {
      "text/plain": [
       "<AxesSubplot:xlabel='time'>"
      ]
     },
     "execution_count": 25,
     "metadata": {},
     "output_type": "execute_result"
    },
    {
     "data": {
      "image/png": "[encoded data removed]",
      "text/plain": [
       "<Figure size 432x288 with 1 Axes>"
      ]
     },
     "metadata": {
      "needs_background": "light"
     },
     "output_type": "display_data"
    }
   ],
   "source": [
    "df.plot()"
   ]
  }
 ],
 "metadata": {
  "interpreter": {
   "hash": "97cc609b13305c559618ec78a438abc56230b9381f827f22d070313b9a1f3777"
  },
  "kernelspec": {
   "display_name": "Python 3.10.1 64-bit",
   "language": "python",
   "name": "python3"
  },
  "language_info": {
   "codemirror_mode": {
    "name": "ipython",
    "version": 3
   },
   "file_extension": ".py",
   "mimetype": "text/x-python",
   "name": "python",
   "nbconvert_exporter": "python",
   "pygments_lexer": "ipython3",
   "version": "3.10.1"
  },
  "orig_nbformat": 4
 },
 "nbformat": 4,
 "nbformat_minor": 2
}
