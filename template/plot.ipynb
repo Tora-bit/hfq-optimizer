{
 "cells": [
  {
   "cell_type": "markdown",
   "metadata": {},
   "source": [
    "2022年1月17日 記載\n",
    "\n",
    "初めまして、B4のTです。\n",
    "JoSIMの使い方とPythonでWrapperを作成したのでこちらに記していきます。"
   ]
  },
  {
   "cell_type": "code",
   "execution_count": 1,
   "metadata": {},
   "outputs": [],
   "source": [
    "netlist=\"\"\"\n",
    ".model jjmod jj(Rtype=1, Vg=2.8mV, Cap=0.064pF, R0=100ohm, Rn=16ohm, Icrit=0.1mA)\n",
    ".model pjjmod jj(Rtype=1, Vg=2.8mV, Cap=0.064pF, R0=100ohm, Rn=16ohm, Icrit=0.1mA, PHI=PI)\n",
    "\n",
    ".subckt psquid  3  5 \n",
    "L1                 3        1   1.75pH fcheck\n",
    "L2                 3        4   1.75pH fcheck\n",
    "B1                 1        5   jjmod area=0.5\n",
    "R1                 1        5   15.88ohm\n",
    "B2                 4        5   pjjmod area=0.5\n",
    "R2                 4        5   15.88ohm\n",
    ".ends\n",
    "\n",
    "* Example JTL Basic\n",
    "VIN                     1       0       pwl(0 0 300p 0 301p 0.5175mV 302p 0.5175mV 303p 0  400p 0 401p 0.5175mV 402p 0.5175mV 403p 0  500p 0 501p 0.5175mV 502p 0.5175mV 503p 0)\n",
    "X1      psquid          1       0\n",
    "L1                      1       2       18pH\n",
    "R1                      2       100     50ohm\n",
    "L2                      2       3       18pH\n",
    "X2      psquid          3       0      \n",
    "L3                      3       4       18pH\n",
    "R2                      4       100     50ohm\n",
    "L4                      4       5       18pH\n",
    "X3      psquid          5       0       \n",
    "R3                      5       6       8.32ohm\n",
    "L5                      6       0       2pH\n",
    "Vb                      100     0       pwl(0ps 0mV 100ps 1.0mV)\n",
    "\n",
    ".tran 0.25p 1000p 0 0.25p\n",
    ".print PHASE B1|X2\n",
    ".print PHASE B2|X2\n",
    "\n",
    ".print PHASE B1|X3\n",
    ".print PHASE B2|X3\n",
    "\n",
    ".end\n",
    "\"\"\"\n",
    "\n",
    "# Show the netlist data\n",
    "# print(netlist)"
   ]
  },
  {
   "cell_type": "markdown",
   "metadata": {},
   "source": [
    "pyjosimという簡単なWrapperパッケージを作成しました。こちらをインポートしてください。"
   ]
  },
  {
   "cell_type": "code",
   "execution_count": 4,
   "metadata": {},
   "outputs": [],
   "source": [
    "from pyjosim.pyjosim import simulation\n",
    "\n",
    "df = simulation(netlist)\n",
    "\n",
    "# Show dataframe\n",
    "# print(df)"
   ]
  },
  {
   "cell_type": "code",
   "execution_count": 3,
   "metadata": {},
   "outputs": [
    {
     "data": {
      "text/plain": [
       "<AxesSubplot:xlabel='time'>"
      ]
     },
     "execution_count": 3,
     "metadata": {},
     "output_type": "execute_result"
    },
    {
     "data": {
      "image/png": "[encoded data removed]",
      "text/plain": [
       "<Figure size 432x288 with 1 Axes>"
      ]
     },
     "metadata": {
      "needs_background": "light"
     },
     "output_type": "display_data"
    }
   ],
   "source": [
    "df.plot()"
   ]
  }
 ],
 "metadata": {
  "interpreter": {
   "hash": "97cc609b13305c559618ec78a438abc56230b9381f827f22d070313b9a1f3777"
  },
  "kernelspec": {
   "display_name": "Python 3.10.1 64-bit",
   "language": "python",
   "name": "python3"
  },
  "language_info": {
   "codemirror_mode": {
    "name": "ipython",
    "version": 3
   },
   "file_extension": ".py",
   "mimetype": "text/x-python",
   "name": "python",
   "nbconvert_exporter": "python",
   "pygments_lexer": "ipython3",
   "version": "3.10.1"
  },
  "orig_nbformat": 4
 },
 "nbformat": 4,
 "nbformat_minor": 2
}
