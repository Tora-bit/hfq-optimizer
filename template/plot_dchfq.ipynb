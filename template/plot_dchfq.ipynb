{
 "cells": [
  {
   "cell_type": "markdown",
   "metadata": {},
   "source": [
    "2022年1月17日 記載\n",
    "\n",
    "初めまして、B4のTです。\n",
    "JoSIMの使い方とPythonでWrapperを作成したのでこちらに記していきます。"
   ]
  },
  {
   "cell_type": "code",
   "execution_count": 130,
   "metadata": {},
   "outputs": [],
   "source": [
    "netlist=\"\"\"\n",
    ".model jjmod jj(Rtype=1, Vg=2.8mV, Cap=0.064pF, R0=100ohm, Rn=16ohm, Icrit=0.1mA)\n",
    ".model pjjmod jj(Rtype=1, Vg=2.8mV, Cap=0.064pF, R0=100ohm, Rn=16ohm, Icrit=0.1mA, PHI=PI)\n",
    "\n",
    "\n",
    "*PYSQUID=========================================================================\n",
    ".subckt psquid        3  5 \n",
    "L1                 3         1   1.75pH fcheck\n",
    "L2                 3         4   1.75pH fcheck\n",
    "B1                 1         5  jjmod area=0.5\n",
    "R1                 1         5   15.88ohm\n",
    "B2                 2         5  jjmod area=0.5\n",
    "R2                 2         5   15.88ohm\n",
    "B3                 4         2  pjjmod area=20\n",
    ".ends\n",
    "* ===============================================\n",
    "\n",
    "\n",
    "\n",
    ".subckt JTL     1  5  100\n",
    "L1               1  2   18pH fcheck\n",
    "L2               2  3   18pH fcheck\n",
    "L3               3  4   18pH fcheck\n",
    "L4               4  5   18pH fcheck\n",
    "X1    psquid     3  0\n",
    "X2    psquid     5  0\n",
    "R1               100  4   50ohm\n",
    ".ends\n",
    "\n",
    "\n",
    ".subckt DCHFQ 1 6 100\n",
    "* 250-350  750-850  1250-1350\n",
    "Vin                     1        0    PWL(0ps 0mV 240ps 0mV 250ps 25mV 350ps 25mV 360ps 0mV   740ps 0mV 750ps 25mV 850ps 25mV 860ps 0mV   1240ps 0mV 1250ps 25mV 1350ps 25mV 1360ps 0mV)\n",
    "Rin                     1        2    1500ohm\n",
    "L0                      2        3    2pH fcheck\n",
    "L1                      3        0    40pH fcheck\n",
    "X1       psquid         3        4\n",
    "L3                      4        5    4.00pH fcheck\n",
    "L4                      5        6    2.00pH fcheck\n",
    "R1                      100      5    50ohm\n",
    "X2       psquid         6        0\n",
    ".ends\n",
    "\n",
    "\n",
    "\n",
    "\n",
    "\n",
    "*** top cell: \n",
    "X0       DCHFQ          1     2  100\n",
    "X1       JTL            2     3  100\n",
    "X2       JTL            3     4  100\n",
    "X3       JTL            4     5  100\n",
    "X4       JTL            5     6  100\n",
    "X5       JTL            6     7  100\n",
    "X6       JTL            7     8  100\n",
    "X7       JTL            8     9  100\n",
    "X8       psquid         9     0\n",
    "R1                      9     10  8.32ohm\n",
    "L1                      10     0  2pH fcheck\n",
    "Vb                      100   0  pwl(0ps 0mV 100ps 1.5mV)\n",
    "\n",
    "\n",
    "**netlis file\n",
    ".tran 0.2ps 1500ps 0ps 0.2ps\n",
    "\n",
    "\n",
    ".print phase B1|X1|X1\n",
    "\n",
    ".print phase B2|X1|X1\n",
    "\n",
    ".print devi B1|X1|X1\n",
    "\n",
    ".print devi B2|X1|X1\n",
    "\n",
    ".print phase B1|X1|X5\n",
    "\n",
    ".print phase B2|X1|X5\n",
    "\n",
    "\n",
    ".end\n",
    "\"\"\"\n",
    "\n",
    "# Show the netlist data\n",
    "# print(netlist)"
   ]
  },
  {
   "cell_type": "markdown",
   "metadata": {},
   "source": [
    "pyjosimという簡単なJoSIMのWrapperパッケージを作成しました。こちらをインポートしてください。"
   ]
  },
  {
   "cell_type": "code",
   "execution_count": 131,
   "metadata": {},
   "outputs": [],
   "source": [
    "from pyjosim.pyjosim import simulation\n",
    "\n",
    "df = simulation(netlist)\n",
    "\n",
    "df['I(B1|X1|X1)'] = df['I(B1|X1|X1)'] * 20000\n",
    "df['I(B2|X1|X1)'] = df['I(B2|X1|X1)'] * 20000\n",
    "# Show dataframe\n",
    "# print(df)\n",
    "\n"
   ]
  },
  {
   "cell_type": "code",
   "execution_count": 132,
   "metadata": {},
   "outputs": [
    {
     "data": {
      "text/plain": [
       "<AxesSubplot:xlabel='time'>"
      ]
     },
     "execution_count": 132,
     "metadata": {},
     "output_type": "execute_result"
    },
    {
     "data": {
      "image/png": "[encoded data removed]",
      "text/plain": [
       "<Figure size 432x288 with 1 Axes>"
      ]
     },
     "metadata": {
      "needs_background": "light"
     },
     "output_type": "display_data"
    }
   ],
   "source": [
    "df.plot()"
   ]
  }
 ],
 "metadata": {
  "interpreter": {
   "hash": "97cc609b13305c559618ec78a438abc56230b9381f827f22d070313b9a1f3777"
  },
  "kernelspec": {
   "display_name": "Python 3.10.1 64-bit",
   "language": "python",
   "name": "python3"
  },
  "language_info": {
   "codemirror_mode": {
    "name": "ipython",
    "version": 3
   },
   "file_extension": ".py",
   "mimetype": "text/x-python",
   "name": "python",
   "nbconvert_exporter": "python",
   "pygments_lexer": "ipython3",
   "version": "3.10.1"
  },
  "orig_nbformat": 4
 },
 "nbformat": 4,
 "nbformat_minor": 2
}
