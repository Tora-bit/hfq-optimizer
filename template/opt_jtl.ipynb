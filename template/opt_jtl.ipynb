{
 "cells": [
  {
   "cell_type": "code",
   "execution_count": 30,
   "metadata": {},
   "outputs": [],
   "source": [
    "netlist_data = \"\"\"\n",
    "\n",
    ".model jjmod jj(Rtype=1, Vg=2.8mV, Cap=0.064pF, R0=100ohm, Rn=16ohm, Icrit=0.1mA)\n",
    ".model pjjmod jj(Rtype=1, Vg=2.8mV, Cap=0.064pF, R0=100ohm, Rn=16ohm, Icrit=0.1mA, PHI=PI)\n",
    "\n",
    "* PYSQUID=====================================\n",
    ".subckt psquid        3  5 \n",
    "L1                 3         1   #SQUIDL(1.75)pH fcheck\n",
    "L2                 3         4   #SQUIDL(1.75)pH fcheck\n",
    "B1                 1         5  jjmod area=#JJAREA(v=0.49, shunt = JJSHUNT)\n",
    "R1                 1         5   #JJSHUNT(16)ohm\n",
    "B2                 2         5  jjmod area=#JJAREA(v=0.49)\n",
    "R2                 2         5   #JJSHUNT(16)ohm\n",
    "B3                 4         2  pjjmod area=#PJJAREA(20, fix = true)\n",
    ".ends\n",
    "* ============================================\n",
    "\n",
    ".subckt JTL     1  5  100\n",
    "L1               1  2   #JTLL1(18)pH fcheck\n",
    "L2               2  3   #JTLL1(18)pH fcheck\n",
    "L3               3  4   #JTLL1(18)pH fcheck\n",
    "L4               4  5   #JTLL1(18)pH fcheck\n",
    "X1    psquid     3  0\n",
    "X2    psquid     5  0\n",
    "R1               100  2   #JTLR1(100)ohm\n",
    ".ends\n",
    "\n",
    ".subckt JTL4    1  5  100\n",
    "X1       JTL            1  2  100\n",
    "X2       JTL            2  3  100\n",
    "X3       JTL            3  4  100\n",
    "X4       JTL            4  5  100\n",
    ".ends\n",
    "\n",
    "*** top cell:  \n",
    "Vin1                    1    0   PWL(0ps 0mV  600ps 0mV 601ps 0.517mV 602ps 0.517mV 603ps 0mV  800ps 0mV 801ps 0.517mV 802ps 0.517mV 803ps 0mV  1000ps 0mV 1001ps 0.517mV 1002ps 0.517mV 1003ps 0mV)\n",
    "X1    psquid            1    0\n",
    "L1                      1    2      10pH fcheck\n",
    "R1                      2    100    100ohm\n",
    "L2                      2    3      10pH fcheck\n",
    "X2    psquid            3    0\n",
    "R3                      3     13  8.32ohm\n",
    "L3                      13     0  2pH fcheck\n",
    "Vb                      100    0  pwl(0ps 0mV 100ps #BIAS(v=1.4,fix = true)mV)\n",
    "\n",
    "\n",
    "**netlis file\n",
    ".tran 1.0ps 2000ps 0ps 1ps\n",
    "\n",
    ".print phase B1|X1\n",
    ".print phase B2|X1\n",
    "\n",
    ".print phase B1|X2\n",
    ".print phase B2|X2\n",
    "\n",
    ".end\n",
    "\n",
    "**** optimize ****\n",
    "* バイアス電圧の立ち上がり終了の時間\n",
    "* EndTimeOfBiasRise=100e-12\n",
    "* 初期パルスの入力開始時間\n",
    "* StartTimeOfPulseInput=400e-12\n",
    "\"\"\""
   ]
  },
  {
   "cell_type": "code",
   "execution_count": 31,
   "metadata": {},
   "outputs": [
    {
     "name": "stdout",
     "output_type": "stream",
     "text": [
      "--- List of variables to optimize ---\n",
      "            def    main     sub element    fix    shunt    dp  dpv  tmp\n",
      "char                                                                   \n",
      "SQUIDL     1.75    1.75    1.75       L    0.0     None   1.0  7.0  0.0\n",
      "JJAREA     0.49    0.49    0.49       B  False  JJSHUNT  True  7.0  0.0\n",
      "JJSHUNT   16.00   16.00   16.00       R  False     None  True  7.0  0.0\n",
      "PJJAREA   20.00   20.00   20.00       B   True     None  True  7.0  0.0\n",
      "JTLL1     18.00   18.00   18.00       L  False     None  True  7.0  0.0\n",
      "JTLR1    100.00  100.00  100.00       R  False     None  True  7.0  0.0\n",
      "BIAS       1.40    1.40    1.40       V   True     None  True  7.0  0.0\n",
      "\n",
      "\n",
      "--- Period to calculate the initial value of bias ---\n",
      "1e-10  ~  4e-10\n",
      "\n",
      "\n",
      "--- SQUID used for judging the operation ---\n",
      "[['P(B1|X1)', 'P(B2|X1)'], ['P(B1|X2)', 'P(B2|X2)']]\n",
      "\n",
      "\n"
     ]
    }
   ],
   "source": [
    "import importlib\n",
    "from optimize import data\n",
    "importlib.reload(data)\n",
    "\n",
    "d = data.Data(netlist_data, True)"
   ]
  },
  {
   "cell_type": "code",
   "execution_count": 32,
   "metadata": {},
   "outputs": [
    {
     "name": "stdout",
     "output_type": "stream",
     "text": [
      "\n",
      "\n",
      ".model jjmod jj(Rtype=1, Vg=2.8mV, Cap=0.064pF, R0=100ohm, Rn=16ohm, Icrit=0.1mA)\n",
      ".model pjjmod jj(Rtype=1, Vg=2.8mV, Cap=0.064pF, R0=100ohm, Rn=16ohm, Icrit=0.1mA, PHI=PI)\n",
      "\n",
      "* PYSQUID=====================================\n",
      ".subckt psquid        3  5 \n",
      "L1                 3         1   1.75pH fcheck\n",
      "L2                 3         4   1.75pH fcheck\n",
      "B1                 1         5  jjmod area=0.49\n",
      "R1                 1         5   16.0ohm\n",
      "B2                 2         5  jjmod area=0.49\n",
      "R2                 2         5   16.0ohm\n",
      "B3                 4         2  pjjmod area=20.0\n",
      ".ends\n",
      "* ============================================\n",
      "\n",
      ".subckt JTL     1  5  100\n",
      "L1               1  2   18.0pH fcheck\n",
      "L2               2  3   18.0pH fcheck\n",
      "L3               3  4   18.0pH fcheck\n",
      "L4               4  5   18.0pH fcheck\n",
      "X1    psquid     3  0\n",
      "X2    psquid     5  0\n",
      "R1               100  4   100.0ohm\n",
      ".ends\n",
      "\n",
      ".subckt JTL4    1  5  100\n",
      "X1       JTL            1  2  100\n",
      "X2       JTL            2  3  100\n",
      "X3       JTL            3  4  100\n",
      "X4       JTL            4  5  100\n",
      ".ends\n",
      "\n",
      "*** top cell:  \n",
      "Vin1                    1    0   PWL(0ps 0mV  600ps 0mV 601ps 0.517mV 602ps 0.517mV 603ps 0mV  800ps 0mV 801ps 0.517mV 802ps 0.517mV 803ps 0mV  1000ps 0mV 1001ps 0.517mV 1002ps 0.517mV 1003ps 0mV)\n",
      "X1    psquid            1    0\n",
      "L1                      1    2      10pH fcheck\n",
      "R1                      2    100    100ohm\n",
      "L2                      2    3      10pH fcheck\n",
      "X2    psquid            3    0\n",
      "R3                      3     13  8.32ohm\n",
      "L3                      13     0  2pH fcheck\n",
      "Vb                      100    0  pwl(0ps 0mV 100ps 1.4mV)\n",
      "\n",
      "\n",
      "**netlis file\n",
      ".tran 1.0ps 2000ps 0ps 1ps\n",
      "\n",
      ".print phase B1|X1\n",
      ".print phase B2|X1\n",
      "\n",
      ".print phase B1|X2\n",
      ".print phase B2|X2\n",
      "\n",
      ".end\n",
      "\n",
      "\n",
      "default 値でのシュミレーション結果\n"
     ]
    },
    {
     "data": {
      "image/png": "[encoded data removed]",
      "text/plain": [
       "<Figure size 432x288 with 1 Axes>"
      ]
     },
     "metadata": {
      "needs_background": "light"
     },
     "output_type": "display_data"
    },
    {
     "data": {
      "image/png": "[encoded data removed]",
      "text/plain": [
       "<Figure size 432x288 with 1 Axes>"
      ]
     },
     "metadata": {
      "needs_background": "light"
     },
     "output_type": "display_data"
    }
   ],
   "source": [
    "d.default_simulation(True)"
   ]
  },
  {
   "cell_type": "code",
   "execution_count": 15,
   "metadata": {},
   "outputs": [
    {
     "name": "stdout",
     "output_type": "stream",
     "text": [
      "ばらつき0 : 0回目の最適化開始\n",
      "最小マージン :  JJAREA    21.875000000000004\n",
      "ばらつき0 : 0回目の最適化終了\n",
      "ばらつき0 : 1回目の最適化開始\n"
     ]
    },
    {
     "ename": "KeyboardInterrupt",
     "evalue": "",
     "output_type": "error",
     "traceback": [
      "\u001b[0;31m---------------------------------------------------------------------------\u001b[0m",
      "\u001b[0;31mKeyboardInterrupt\u001b[0m                         Traceback (most recent call last)",
      "\u001b[1;32m/home/tanetakumi/main/hfq-optimizer/template/optimize/optimize3.ipynb Cell 5'\u001b[0m in \u001b[0;36m<module>\u001b[0;34m\u001b[0m\n\u001b[1;32m      <a href='vscode-notebook-cell://ssh-remote%2Belab/home/tanetakumi/main/hfq-optimizer/template/optimize/optimize3.ipynb#ch0000003vscode-remote?line=1'>2</a>\u001b[0m importlib\u001b[39m.\u001b[39mreload(margin)\n\u001b[1;32m      <a href='vscode-notebook-cell://ssh-remote%2Belab/home/tanetakumi/main/hfq-optimizer/template/optimize/optimize3.ipynb#ch0000003vscode-remote?line=3'>4</a>\u001b[0m \u001b[39m# res = margin.get_margins(d)\u001b[39;00m\n\u001b[1;32m      <a href='vscode-notebook-cell://ssh-remote%2Belab/home/tanetakumi/main/hfq-optimizer/template/optimize/optimize3.ipynb#ch0000003vscode-remote?line=4'>5</a>\u001b[0m \u001b[39m# margin.plot(res)\u001b[39;00m\n\u001b[0;32m----> <a href='vscode-notebook-cell://ssh-remote%2Belab/home/tanetakumi/main/hfq-optimizer/template/optimize/optimize3.ipynb#ch0000003vscode-remote?line=5'>6</a>\u001b[0m margin\u001b[39m.\u001b[39;49moptimize(d,\u001b[39m'\u001b[39;49m\u001b[39m/home/tanetakumi/main/hfq-optimizer/template/optimize/optimize-data10\u001b[39;49m\u001b[39m'\u001b[39;49m)\n",
      "File \u001b[0;32m~/main/hfq-optimizer/scripts/optimize/optimize/margin.py:32\u001b[0m, in \u001b[0;36moptimize\u001b[0;34m(data, directory)\u001b[0m\n",
      "File \u001b[0;32m~/main/hfq-optimizer/scripts/optimize/optimize/margin.py:86\u001b[0m, in \u001b[0;36mget_margins\u001b[0;34m(data, accuracy, thread)\u001b[0m\n",
      "File \u001b[0;32m/usr/lib/python3.10/concurrent/futures/_base.py:245\u001b[0m, in \u001b[0;36mas_completed\u001b[0;34m(fs, timeout)\u001b[0m\n\u001b[1;32m    <a href='file:///usr/lib/python3.10/concurrent/futures/_base.py?line=239'>240</a>\u001b[0m     \u001b[39mif\u001b[39;00m wait_timeout \u001b[39m<\u001b[39m \u001b[39m0\u001b[39m:\n\u001b[1;32m    <a href='file:///usr/lib/python3.10/concurrent/futures/_base.py?line=240'>241</a>\u001b[0m         \u001b[39mraise\u001b[39;00m \u001b[39mTimeoutError\u001b[39;00m(\n\u001b[1;32m    <a href='file:///usr/lib/python3.10/concurrent/futures/_base.py?line=241'>242</a>\u001b[0m                 \u001b[39m'\u001b[39m\u001b[39m%d\u001b[39;00m\u001b[39m (of \u001b[39m\u001b[39m%d\u001b[39;00m\u001b[39m) futures unfinished\u001b[39m\u001b[39m'\u001b[39m \u001b[39m%\u001b[39m (\n\u001b[1;32m    <a href='file:///usr/lib/python3.10/concurrent/futures/_base.py?line=242'>243</a>\u001b[0m                 \u001b[39mlen\u001b[39m(pending), total_futures))\n\u001b[0;32m--> <a href='file:///usr/lib/python3.10/concurrent/futures/_base.py?line=244'>245</a>\u001b[0m waiter\u001b[39m.\u001b[39;49mevent\u001b[39m.\u001b[39;49mwait(wait_timeout)\n\u001b[1;32m    <a href='file:///usr/lib/python3.10/concurrent/futures/_base.py?line=246'>247</a>\u001b[0m \u001b[39mwith\u001b[39;00m waiter\u001b[39m.\u001b[39mlock:\n\u001b[1;32m    <a href='file:///usr/lib/python3.10/concurrent/futures/_base.py?line=247'>248</a>\u001b[0m     finished \u001b[39m=\u001b[39m waiter\u001b[39m.\u001b[39mfinished_futures\n",
      "File \u001b[0;32m/usr/lib/python3.10/threading.py:600\u001b[0m, in \u001b[0;36mEvent.wait\u001b[0;34m(self, timeout)\u001b[0m\n\u001b[1;32m    <a href='file:///usr/lib/python3.10/threading.py?line=597'>598</a>\u001b[0m signaled \u001b[39m=\u001b[39m \u001b[39mself\u001b[39m\u001b[39m.\u001b[39m_flag\n\u001b[1;32m    <a href='file:///usr/lib/python3.10/threading.py?line=598'>599</a>\u001b[0m \u001b[39mif\u001b[39;00m \u001b[39mnot\u001b[39;00m signaled:\n\u001b[0;32m--> <a href='file:///usr/lib/python3.10/threading.py?line=599'>600</a>\u001b[0m     signaled \u001b[39m=\u001b[39m \u001b[39mself\u001b[39;49m\u001b[39m.\u001b[39;49m_cond\u001b[39m.\u001b[39;49mwait(timeout)\n\u001b[1;32m    <a href='file:///usr/lib/python3.10/threading.py?line=600'>601</a>\u001b[0m \u001b[39mreturn\u001b[39;00m signaled\n",
      "File \u001b[0;32m/usr/lib/python3.10/threading.py:320\u001b[0m, in \u001b[0;36mCondition.wait\u001b[0;34m(self, timeout)\u001b[0m\n\u001b[1;32m    <a href='file:///usr/lib/python3.10/threading.py?line=317'>318</a>\u001b[0m \u001b[39mtry\u001b[39;00m:    \u001b[39m# restore state no matter what (e.g., KeyboardInterrupt)\u001b[39;00m\n\u001b[1;32m    <a href='file:///usr/lib/python3.10/threading.py?line=318'>319</a>\u001b[0m     \u001b[39mif\u001b[39;00m timeout \u001b[39mis\u001b[39;00m \u001b[39mNone\u001b[39;00m:\n\u001b[0;32m--> <a href='file:///usr/lib/python3.10/threading.py?line=319'>320</a>\u001b[0m         waiter\u001b[39m.\u001b[39;49macquire()\n\u001b[1;32m    <a href='file:///usr/lib/python3.10/threading.py?line=320'>321</a>\u001b[0m         gotit \u001b[39m=\u001b[39m \u001b[39mTrue\u001b[39;00m\n\u001b[1;32m    <a href='file:///usr/lib/python3.10/threading.py?line=321'>322</a>\u001b[0m     \u001b[39melse\u001b[39;00m:\n",
      "\u001b[0;31mKeyboardInterrupt\u001b[0m: "
     ]
    }
   ],
   "source": [
    "from optimize import margin\n",
    "importlib.reload(margin)\n",
    "\n",
    "# res = margin.get_margins(d)\n",
    "# margin.plot(res)\n",
    "margin.optimize(d,'/home/tanetakumi/main/hfq-optimizer/template/optimize/optimize-data10')\n",
    "\n",
    "\n"
   ]
  },
  {
   "cell_type": "code",
   "execution_count": null,
   "metadata": {},
   "outputs": [],
   "source": [
    "# margin.plot(res)"
   ]
  }
 ],
 "metadata": {
  "interpreter": {
   "hash": "97cc609b13305c559618ec78a438abc56230b9381f827f22d070313b9a1f3777"
  },
  "kernelspec": {
   "display_name": "Python 3.10.1 64-bit",
   "language": "python",
   "name": "python3"
  },
  "language_info": {
   "codemirror_mode": {
    "name": "ipython",
    "version": 3
   },
   "file_extension": ".py",
   "mimetype": "text/x-python",
   "name": "python",
   "nbconvert_exporter": "python",
   "pygments_lexer": "ipython3",
   "version": "3.10.1"
  },
  "orig_nbformat": 4
 },
 "nbformat": 4,
 "nbformat_minor": 2
}
