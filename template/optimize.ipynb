{
 "cells": [
  {
   "cell_type": "markdown",
   "metadata": {},
   "source": [
    "最適化プログラムの開発"
   ]
  },
  {
   "cell_type": "code",
   "execution_count": 1,
   "metadata": {},
   "outputs": [],
   "source": [
    "netlist_data = \"\"\"\n",
    ".model jjmod jj(Rtype=1, Vg=2.8mV, Cap=0.064pF, R0=100ohm, Rn=16ohm, Icrit=0.1mA)\n",
    ".model pjjmod jj(Rtype=1, Vg=2.8mV, Cap=0.064pF, R0=100ohm, Rn=16ohm, Icrit=0.1mA, PHI=PI)\n",
    "\n",
    "*PYSQUID=========================================================================\n",
    "\n",
    ".subckt psquid        3  5 \n",
    "L1                 3         1   1.75pH fcheck\n",
    "L2                 3         4   1.75pH fcheck\n",
    "B1                 1         5  jjmod area=0.49\n",
    "R1                 1         5   15.88ohm\n",
    "B2                 2         5  jjmod area=0.49\n",
    "R2                 2         5   15.88ohm\n",
    "B3                 4         2  pjjmod area=20\n",
    "R3                 4         2   0.2ohm\n",
    ".ends\n",
    "*================================================================================\n",
    "\n",
    "\n",
    ".subckt HFQ_bias            1  3  4\n",
    "L1               1        2   20pH fcheck\n",
    "L2               2        3   20pH fcheck\n",
    "R1               2        4   130ohm\n",
    ".ends\n",
    "\n",
    ".subckt HFQ_bias_non        1  3  \n",
    "L1               1        2   20pH fcheck\n",
    "L2               2        3   20pH fcheck\n",
    ".ends\n",
    "\n",
    "\n",
    ".subckt DCHFQ 1 7 100\n",
    "Rin                     1        2    #DCHFQR1(150)ohm\n",
    "L0                      2        3    2pH fcheck\n",
    "L1                      3        0    #DCHFQL1(20)pH fcheck\n",
    "X1       psquid         3        4\n",
    "L3                      4        5    #DCHFQL2(4)pH fcheck\n",
    "L4                      5        6    2.00pH fcheck\n",
    "R1                      100      5    #DCHFQR2(100)ohm\n",
    "X2       psquid         6        0\n",
    "X3       JTL      6        7     100\n",
    ".ends\n",
    "\n",
    ".subckt DCHFQt 1 7 100\n",
    "Rin                     1        2    #DCHFQR1(150)ohm\n",
    "L0                      2        3    2pH fcheck\n",
    "L1                      3        0    #DCHFQL1(20)pH fcheck\n",
    "X1       psquid         3        4\n",
    "L3                      4        5    #DCHFQL2(4)pH fcheck\n",
    "L4                      5        6    2.00pH fcheck\n",
    "R1                      100      5    #DCHFQR2(100)ohm\n",
    "X2       psquid         6        0\n",
    "X3       JTL      6        7     100\n",
    ".ends\n",
    "\n",
    "\n",
    ".subckt JTL     1  5  100\n",
    "L1               1  2   #JTLL1(18)pH fcheck\n",
    "L2               2  3   #JTLL1(18)pH fcheck\n",
    "L3               3  4   #JTLL1(18)pH fcheck\n",
    "L4               4  5   #JTLL1(18)pH fcheck\n",
    "X1    psquid     3  0\n",
    "X2    psquid     5  0\n",
    "R1               100  4   #JTLR1(100)ohm\n",
    ".ends\n",
    "\n",
    "\n",
    "\n",
    ".subckt JTL4    1  5  100\n",
    "X1       JTL            1  2  100\n",
    "X2       JTL            2  3  100\n",
    "X3       JTL            3  4  100\n",
    "X4       JTL            4  5  100\n",
    ".ends\n",
    "\n",
    "\n",
    ".subckt DFF 1 4 9 100\n",
    "L1                   1  2  #DFFL1(10)pH fcheck  \n",
    "X1       psquid      2  3\n",
    "L2                   3  7  #@DFFL2(18)pH fcheck\n",
    "\n",
    "L3                   4  5  #DFFL3(18)pH fcheck\n",
    "L4                   5  6  #DFFL4(18)pH fcheck\n",
    "X2       psquid      6  0\n",
    "L5                   6  7  2pH  fcheck\n",
    "R1                   100  7  #DFFR1(100)ohm\n",
    "L6                   7  8  #DFFL6(10)pH fcheck\n",
    "L7                   8  9  2pH fcheck\n",
    "X3       psquid      9  0\n",
    ".ends\n",
    "\n",
    "\n",
    "*** top cell: \n",
    "Vin1                     1     0      PWL(0ps 0mV   360ps 0mV 370ps 25mV 470ps 25mV 480ps 0mV   860ps 0mV 870ps 25mV 970ps 25mV 980ps 0mV   1360ps 0mV 1370ps 25mV 1470ps 25mV 1480ps 0mV)\n",
    "X0       DCHFQt        1     2  100\n",
    "X1       JTL4          2     3  100\n",
    "X2       JTL4          3     4  100\n",
    "\n",
    "Vin2                     5     0      PWL(0ps 0mV   240ps 0mV 250ps 25mV 350ps 25mV 360ps 0mV   740ps 0mV 750ps 25mV 850ps 25mV 860ps 0mV   1240ps 0mV 1250ps 25mV 1350ps 25mV 1360ps 0mV)\n",
    "X3       DCHFQt        5     6  100\n",
    "X4       JTL4          6     7  100\n",
    "X5       JTL4          7     8  100\n",
    "\n",
    "X6       DFF           4     8  9 100\n",
    "X7       JTL4          9     10  100\n",
    "X8       JTL4          10    11  100\n",
    "\n",
    "\n",
    "X9       psquid        11     0\n",
    "R1                     11    12  8.32ohm\n",
    "L1                     12     0  2pH fcheck\n",
    "Vb                     100    0  pwl(0ps 0mV 100ps 1.2mV)\n",
    "\n",
    "\n",
    "\n",
    "**netlis file\n",
    ".tran 1.0ps 6000ps 0ps 1ps\n",
    "\n",
    ".print phase B1|X1|X1|X5\n",
    ".print phase B2|X1|X1|X5\n",
    "\n",
    ".print phase B1|X1|X1|X2\n",
    ".print phase B2|X1|X1|X2\n",
    "\n",
    ".print phase B1|X1|X1|X8\n",
    ".print phase B2|X1|X1|X8\n",
    "\n",
    ".end\n",
    "\n",
    "**** optimize ****\n",
    "* バイアス電圧の立ち上がり終了の時間\n",
    "* EndTimeOfBiasRise=100e-12\n",
    "* 初期パルスの入力開始時間\n",
    "* StartTimeOfPulseInput=200e-12\n",
    "\"\"\""
   ]
  },
  {
   "cell_type": "code",
   "execution_count": 5,
   "metadata": {},
   "outputs": [],
   "source": [
    "# print(netlist_data)"
   ]
  },
  {
   "cell_type": "code",
   "execution_count": 3,
   "metadata": {},
   "outputs": [
    {
     "name": "stdout",
     "output_type": "stream",
     "text": [
      "--- List of variables to optimize ---\n",
      "        default value  fixed           text\n",
      "char                                       \n",
      "DCHFQR1     150   150  False  #DCHFQR1(150)\n",
      "DCHFQL1      20    20  False   #DCHFQL1(20)\n",
      "DCHFQL2       4     4  False    #DCHFQL2(4)\n",
      "DCHFQR2     100   100  False  #DCHFQR2(100)\n",
      "JTLL1        18    18  False     #JTLL1(18)\n",
      "JTLR1       100   100  False    #JTLR1(100)\n",
      "DFFL1        10    10  False     #DFFL1(10)\n",
      "@DFFL2       18    18   True    #@DFFL2(18)\n",
      "DFFL3        18    18  False     #DFFL3(18)\n",
      "DFFL4        18    18  False     #DFFL4(18)\n",
      "DFFR1       100   100  False    #DFFR1(100)\n",
      "DFFL6        10    10  False     #DFFL6(10)\n",
      "\n",
      "\n",
      "--- Period to calculate the initial value of bias ---\n",
      "1e-10  ~  2e-10\n",
      "\n",
      "\n",
      "--- SQUID used for judging the operation ---\n",
      "[['P(B1|X1|X1|X5)', 'P(B2|X1|X1|X5)'], ['P(B1|X1|X1|X2)', 'P(B2|X1|X1|X2)'], ['P(B1|X1|X1|X8)', 'P(B2|X1|X1|X8)']]\n",
      "\n",
      "\n"
     ]
    }
   ],
   "source": [
    "import importlib\n",
    "from optimize import data2\n",
    "importlib.reload(data2)\n",
    "# importlib.reload(Data) # モジュールの再読み込み\n",
    "# import optimize\n",
    "# .reload(optimize) # モジュールの再読み込み\n",
    "\n",
    "data = data2.Data(netlist_data, True)"
   ]
  },
  {
   "cell_type": "code",
   "execution_count": 4,
   "metadata": {},
   "outputs": [
    {
     "name": "stdout",
     "output_type": "stream",
     "text": [
      "default 値でのシュミレーション結果\n",
      "           time                       element phase\n",
      "0  3.620000e-10  P(B1|X1|X1|X5)P(B2|X1|X1|X5)     1\n",
      "1  8.700000e-10  P(B1|X1|X1|X5)P(B2|X1|X1|X5)     2\n",
      "2  1.362000e-09  P(B1|X1|X1|X5)P(B2|X1|X1|X5)     3\n",
      "3  4.820000e-10  P(B1|X1|X1|X2)P(B2|X1|X1|X2)     1\n",
      "4  9.900000e-10  P(B1|X1|X1|X2)P(B2|X1|X1|X2)     2\n",
      "5  1.482000e-09  P(B1|X1|X1|X2)P(B2|X1|X1|X2)     3\n",
      "6  5.590000e-10  P(B1|X1|X1|X8)P(B2|X1|X1|X8)     1\n",
      "7  1.080000e-09  P(B1|X1|X1|X8)P(B2|X1|X1|X8)     2\n",
      "8  1.559000e-09  P(B1|X1|X1|X8)P(B2|X1|X1|X8)     3\n"
     ]
    },
    {
     "data": {
      "image/png": "[encoded data removed]",
      "text/plain": [
       "<Figure size 432x288 with 1 Axes>"
      ]
     },
     "metadata": {
      "needs_background": "light"
     },
     "output_type": "display_data"
    },
    {
     "data": {
      "image/png": "[encoded data removed]",
      "text/plain": [
       "<Figure size 432x288 with 1 Axes>"
      ]
     },
     "metadata": {
      "needs_background": "light"
     },
     "output_type": "display_data"
    }
   ],
   "source": [
    "data.default_simulation(True)"
   ]
  }
 ],
 "metadata": {
  "interpreter": {
   "hash": "97cc609b13305c559618ec78a438abc56230b9381f827f22d070313b9a1f3777"
  },
  "kernelspec": {
   "display_name": "Python 3.10.1 64-bit",
   "language": "python",
   "name": "python3"
  },
  "language_info": {
   "codemirror_mode": {
    "name": "ipython",
    "version": 3
   },
   "file_extension": ".py",
   "mimetype": "text/x-python",
   "name": "python",
   "nbconvert_exporter": "python",
   "pygments_lexer": "ipython3",
   "version": "3.10.1"
  },
  "orig_nbformat": 4
 },
 "nbformat": 4,
 "nbformat_minor": 2
}
