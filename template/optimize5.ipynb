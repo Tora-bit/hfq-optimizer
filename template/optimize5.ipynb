{
 "cells": [
  {
   "cell_type": "code",
   "execution_count": 7,
   "metadata": {},
   "outputs": [
    {
     "data": {
      "text/plain": [
       "<module 'optimize.data' from '/home/tanetakumi/main/hfq-optimizer/scripts/optimize/optimize/data.py'>"
      ]
     },
     "execution_count": 7,
     "metadata": {},
     "output_type": "execute_result"
    }
   ],
   "source": [
    "import importlib\n",
    "from optimize import data\n",
    "importlib.reload(data)"
   ]
  },
  {
   "cell_type": "code",
   "execution_count": 13,
   "metadata": {},
   "outputs": [
    {
     "name": "stdout",
     "output_type": "stream",
     "text": [
      "              P(B1|X1|X1|X4)  P(B2|X1|X1|X4)\n",
      "time                                        \n",
      "0.000000e+00        1.250732       -1.287465\n",
      "1.000000e-12        1.257990       -1.279199\n",
      "2.000000e-12        1.266129       -1.271562\n",
      "3.000000e-12        1.272290       -1.265356\n",
      "4.000000e-12        1.277029       -1.260549\n",
      "...                      ...             ...\n",
      "1.995000e-09       11.674570        7.976105\n",
      "1.996000e-09       11.674570        7.976105\n",
      "1.997000e-09       11.674570        7.976105\n",
      "1.998000e-09       11.674570        7.976105\n",
      "1.999000e-09       11.674570        7.976105\n",
      "\n",
      "[2000 rows x 2 columns]\n"
     ]
    },
    {
     "data": {
      "text/plain": [
       "<AxesSubplot:xlabel='time'>"
      ]
     },
     "execution_count": 13,
     "metadata": {},
     "output_type": "execute_result"
    },
    {
     "data": {
      "image/png": "[encoded data removed]",
      "text/plain": [
       "<Figure size 720x504 with 1 Axes>"
      ]
     },
     "metadata": {
      "needs_background": "light"
     },
     "output_type": "display_data"
    }
   ],
   "source": [
    "netlist_data4 = \"\"\"\n",
    "\n",
    ".model jjmod jj(Rtype=1, Vg=2.8mV, Cap=0.064pF, R0=100ohm, Rn=16ohm, Icrit=0.1mA)\n",
    ".model pjjmod jj(Rtype=1, Vg=2.8mV, Cap=0.064pF, R0=100ohm, Rn=16ohm, Icrit=0.1mA, PHI=PI)\n",
    "\n",
    "* PYSQUID=====================================\n",
    ".subckt psquid1        3  5 \n",
    "L1                 3         1   #SQUIDL1(1.736)pH fcheck\n",
    "L2                 3         4   #SQUIDL1(1.736)pH fcheck\n",
    "B1                 1         5   jjmod area=#JJAREA1(v=0.562, shunt = JJSHUNT3)\n",
    "R1                 1         5   #JJSHUNT1(16.905)ohm\n",
    "B2                 2         5   jjmod area=#JJAREA1(v=0.562)\n",
    "R2                 2         5   #JJSHUNT1(16.905)ohm\n",
    "B3                 4         2   pjjmod area=#PJJAREA1(20, fix = true, dp = false)\n",
    ".ends\n",
    "\n",
    ".subckt psquid2        3  5 \n",
    "L1                 3         1   #SQUIDL2(1.75)pH fcheck\n",
    "L2                 3         4   #SQUIDL2(1.75)pH fcheck\n",
    "B1                 1         5   jjmod area=#JJAREA2(v=0.512, shunt = JJSHUNT3)\n",
    "R1                 1         5   #JJSHUNT2(16.945)ohm\n",
    "B2                 2         5   jjmod area=#JJAREA2(v=0.512)\n",
    "R2                 2         5   #JJSHUNT2(16.945)ohm\n",
    "B3                 4         2   pjjmod area=#PJJAREA2(20, fix = true, dp = false)\n",
    ".ends\n",
    "\n",
    ".subckt psquid3        3  5 \n",
    "L1                 3         1   #SQUIDL3(2.0)pH fcheck\n",
    "L2                 3         4   #SQUIDL31(2.0)pH fcheck\n",
    "B1                 1         5   jjmod area=#JJAREA3(v=0.5, shunt = JJSHUNT3)\n",
    "R1                 1         5   #JJSHUNT3(18)ohm\n",
    "B2                 2         5   jjmod area=#JJAREA7(v=0.5)\n",
    "R2                 2         5   #JJSHUNT3(20)ohm\n",
    "B3                 4         2   pjjmod area=#PJJAREA3(20, fix = true, dp = false)\n",
    ".ends\n",
    "* ============================================\n",
    "\n",
    ".subckt DCHFQ 1 6 100\n",
    "* 250-350  750-850  1250-1350\n",
    "Rin                     1        2    #DCHFQR1(374, dpv = 20)ohm\n",
    "L0                      2        3    2pH fcheck\n",
    "L1                      3        0    #DCHFQL1(18.255, dpv = 13)pH fcheck\n",
    "X1       psquid1         3        4\n",
    "L3                      4        5    #DCHFQL2(4.261)pH fcheck\n",
    "L4                      5        6    #DCHFQL3(2.00, fix = true, dp=False)pH fcheck\n",
    "R1                      100      5    #DCHFQR2(35.57)ohm\n",
    "X2       psquid2         6        0\n",
    ".ends\n",
    "\n",
    ".subckt JTL     1  5  100\n",
    "L1              1  2   #JTLL1(4.599, dpv = 15)pH fcheck\n",
    "L2              2  3   #JTLL1(4.599)pH fcheck\n",
    "L3              3  4   #JTLL1(4.599)pH fcheck\n",
    "L4              4  5   #JTLL1(4.599)pH fcheck\n",
    "X1    psquid3       3  0\n",
    "X2    psquid3       5  0\n",
    "R1               100  4   #JTLR1(45)ohm\n",
    "R2               100  2   #JTLR1(45)ohm\n",
    ".ends\n",
    "\n",
    ".subckt JTL4    1  5  100\n",
    "X1       JTL            1  2  100\n",
    "X2       JTL            2  3  100\n",
    "X3       JTL            3  4  100\n",
    "X4       JTL            4  5  100\n",
    ".ends\n",
    "\n",
    "*** top cell:  \n",
    "Vin                     1   0    PWL(0ps 0mV 440ps 0mV 450ps 25mV 550ps 25mV 560ps 0mV   840ps 0mV 850ps 25mV 950ps 25mV 960ps 0mV   1240ps 0mV 1250ps 25mV 1350ps 25mV 1360ps 0mV)\n",
    "X1      DCHFQ           1   2  100\n",
    "X2      JTL4            2   3   100\n",
    "X3      JTL4            3   4   100\n",
    "X4      JTL4            4   5   100\n",
    "\n",
    "R2                      5     13  8.32ohm\n",
    "L5                      13     0  2pH fcheck\n",
    "Vb                      100    0  pwl(0ps 0mV 100ps #BIAS(v=0.5,fix = true, dp = false)mV)\n",
    "\n",
    "\n",
    "**netlis file\n",
    ".tran 1.0ps 2000ps 0ps 1ps\n",
    "\n",
    "\n",
    ".print phase B1|X1|X1|X4\n",
    ".print phase B2|X1|X1|X4\n",
    "\n",
    ".end\n",
    "\n",
    "**** optimize ****\n",
    "* バイアス電圧の立ち上がり終了の時間\n",
    "* EndTimeOfBiasRise=100e-12\n",
    "* 初期パルスの入力開始時間\n",
    "* StartTimeOfPulseInput=400e-12\n",
    "* 許容できるパルスの遅延\n",
    "* PulseDelay=4.0e-11\n",
    "\"\"\"\n",
    "d3 = data.Data(netlist_data4, plot= False)\n",
    "df = d3.data_simulation(d3.vdf['sub'])\n",
    "print(df)\n",
    "df['SUM'] = df['P(B1|X1|X1|X4)'] + df['P(B2|X1|X1|X4)']\n",
    "df.plot(legend=False)\n",
    "# d3.optimize(\"/home/tanetakumi/main/hfq-optimizer/template/optimize/hasegawadff4\")"
   ]
  }
 ],
 "metadata": {
  "interpreter": {
   "hash": "97cc609b13305c559618ec78a438abc56230b9381f827f22d070313b9a1f3777"
  },
  "kernelspec": {
   "display_name": "Python 3.10.1 64-bit",
   "language": "python",
   "name": "python3"
  },
  "language_info": {
   "codemirror_mode": {
    "name": "ipython",
    "version": 3
   },
   "file_extension": ".py",
   "mimetype": "text/x-python",
   "name": "python",
   "nbconvert_exporter": "python",
   "pygments_lexer": "ipython3",
   "version": "3.10.1"
  },
  "orig_nbformat": 4
 },
 "nbformat": 4,
 "nbformat_minor": 2
}
